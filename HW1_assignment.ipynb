{
 "cells": [
  {
   "cell_type": "markdown",
   "metadata": {},
   "source": [
    "# ORIE 5355/INFO 5370 HW 1: Survey Weighting"
   ]
  },
  {
   "cell_type": "markdown",
   "metadata": {},
   "source": [
    " - Name: Ruize Hou\n",
    " - Net-id: 5212520\n",
    " - Date: 09/14/2022\n",
    " - Late days used for this assignment: 1\n",
    " - Total late days used (counting this assignment): 1\n",
    " - People with whom you discussed this assignment: "
   ]
  },
  {
   "cell_type": "markdown",
   "metadata": {
    "ExecuteTime": {
     "end_time": "2021-09-01T19:23:05.646804Z",
     "start_time": "2021-09-01T19:23:05.610804Z"
    }
   },
   "source": [
    "After you finish the homework, please complete the following (short, anonymous) post-homework survey: https://forms.gle/AM1x5qEnLCvxsgrJ7"
   ]
  },
  {
   "cell_type": "markdown",
   "metadata": {},
   "source": [
    "We have marked questions in <font color='blue'> blue </font>. Please put answers in black (do not change colors). You'll want to write text answers in \"markdown\" mode instead of code. In Jupyter notebook, you can go to Cell > Cell Type > Markdown, from the menu. Please carefully read the late days policy and grading procedure [here](https://orie5355.github.io/Fall_2022/assignments/). In that link, we also give some tips on exporting your notebook to PDF, which is required for GradeScope submission. \n",
    "\n",
    "A few notes about this homework:\n",
    "1. This homework is purposefully heavy in using the Pandas package. Being able to explore data is an essential data science skill that you'll use throughout this class and your career -- even if the polling/politics application is not interesting to you. I encourage you to practice Pandas and learn how to use it well. Your code will NOT be graded on efficiency.\n",
    "2. Some of the questions can be interpreted in multiple ways. That is always true in data science. You'll need to make judgment calls for what analysis to do. For the homework, you'll still receive full points for any \"reasonable\" choice. Also feel free to ask questions on EdStem. "
   ]
  },
  {
   "cell_type": "markdown",
   "metadata": {},
   "source": [
    "# Conceptual component"
   ]
  },
  {
   "cell_type": "markdown",
   "metadata": {},
   "source": [
    "### 1) Reading"
   ]
  },
  {
   "cell_type": "markdown",
   "metadata": {},
   "source": [
    "<font color='blue'> Please read Sections 3 and 4 (pages 6-13) here: https://www.nber.org/system/files/working_papers/w20830/w20830.pdf, and answer the following questions."
   ]
  },
  {
   "cell_type": "markdown",
   "metadata": {},
   "source": [
    "<font color='blue'> Please summarize the sections in no more than two sentences. "
   ]
  },
  {
   "cell_type": "markdown",
   "metadata": {},
   "source": [
    "Ebay has three rating features of sellers that is visible for buyers, however these three features are biased. Some problems are only frequent users are likely to try low rating sellers, ratings are always high such that a 98% good rating doens't mean a good seller, and buyers with bad experiences are not willing to give ratings."
   ]
  },
  {
   "cell_type": "markdown",
   "metadata": {},
   "source": [
    "<font color='blue'> Do you think it's a problem that most ratings are positive? If so, why? Answer in no more than four sentences. Please incorporate concepts discussed in class in your answer. "
   ]
  },
  {
   "cell_type": "markdown",
   "metadata": {},
   "source": [
    "Yes. First, I think that some positive ratings are caused by \"social desirability\", as People tend to make others happy, so that their positive rating are sometime overrating their experience. Second, those ratings are not submitted by the true population, it is likely that people with good experience tend to rate the buyers but those with bad experience do not."
   ]
  },
  {
   "cell_type": "markdown",
   "metadata": {},
   "source": [
    "### 2) Personal reflection"
   ]
  },
  {
   "cell_type": "markdown",
   "metadata": {},
   "source": [
    "<font color='blue'> Think back to a time that you trained a model on data from people or gathered opinions via a survey (an informal one is fine). If you have not done that before, you may answer these questions about an article in the news that reported on public opinions or a model that you think might be in deployment at a company or organization with which you interact (for example, Amazon, google maps, etc)"
   ]
  },
  {
   "cell_type": "markdown",
   "metadata": {},
   "source": [
    "<font color='blue'> Briefly summarize the scenario in no more than two sentences. "
   ]
  },
  {
   "cell_type": "markdown",
   "metadata": {},
   "source": [
    "We analyze data for students from a rural area in China. We want to examine how do smoking behavior co-evolute with friendship network."
   ]
  },
  {
   "cell_type": "markdown",
   "metadata": {},
   "source": [
    "<font color='blue'> What was the construct that you cared about/wanted to measure? What was the measurement (numerical data)? In what ways did the measurement not match the construct you cared about? Answer in no more than 4 sentences.  "
   ]
  },
  {
   "cell_type": "markdown",
   "metadata": {},
   "source": [
    "The survey is conducted monthly during a year to the same group of students. The major measurement we want to obtain is whether the student smoke (Yes:1, No:0), and whether the respondent is friend with each of the other respondents (Yes:1, No:0). The construct is a little too simple. For example, some respondent just try smoking for one time, so it is hard to categorize whether they smoke or not."
   ]
  },
  {
   "cell_type": "markdown",
   "metadata": {},
   "source": [
    "<font color='blue'> What selection biases/differential non-response issues occurred and how did it affect your measurement? (If your answer is \"None,\" explain exactly why you believe the assumptions discussed in class were met). Answer in no more than 3 sentences. "
   ]
  },
  {
   "cell_type": "markdown",
   "metadata": {},
   "source": [
    "A major issue is that some students do not tell the truth. Since smoking is prohibited, students tend to say they don't smoke even if they do so. Also, people have different interpretation of the definition of friend, so there are many cases that A treats B as friends, but B doesn't think so. Morever, the survey is answered by only one class, this might cause selection bias."
   ]
  },
  {
   "cell_type": "markdown",
   "metadata": {},
   "source": [
    "<font color='blue'> Given what we have learned in class so far, what would you do differently if faced with the same scenario again? Answer in no more than 3 sentences. "
   ]
  },
  {
   "cell_type": "markdown",
   "metadata": {},
   "source": [
    "First, I will broaden my sample from a single class to the whole school to reduce selection bias. Since the population of a school is large, I will implement stratified sampling technique. Moreover, I might use other measurements for smoking behavior and friendship recognition to solve the problem that some students don't tell the truth. For example, get student A's friendship and smoking behavior from student B."
   ]
  },
  {
   "cell_type": "markdown",
   "metadata": {},
   "source": [
    "# Programming component"
   ]
  },
  {
   "cell_type": "markdown",
   "metadata": {},
   "source": [
    "<font color='blue'> In this part of the homework, we provide you with data from a poll in Florida before the 2016 Presidential election in the United States. We also provide you with (one pollster's) estimates of who will vote in the 2016 election, made before the election. You will use this data and apply the weighting techniques covered in class."
   ]
  },
  {
   "cell_type": "markdown",
   "metadata": {},
   "source": [
    "## Preliminaries to load packages and data"
   ]
  },
  {
   "cell_type": "code",
   "execution_count": 3,
   "metadata": {
    "ExecuteTime": {
     "end_time": "2021-09-01T20:57:32.311779Z",
     "start_time": "2021-09-01T20:57:32.270775Z"
    }
   },
   "outputs": [],
   "source": [
    "import pandas as pd\n",
    "import numpy as np"
   ]
  },
  {
   "cell_type": "code",
   "execution_count": 4,
   "metadata": {
    "ExecuteTime": {
     "end_time": "2021-09-01T20:57:32.581776Z",
     "start_time": "2021-09-01T20:57:32.454782Z"
    }
   },
   "outputs": [
    {
     "data": {
      "text/html": [
       "<div>\n",
       "<style scoped>\n",
       "    .dataframe tbody tr th:only-of-type {\n",
       "        vertical-align: middle;\n",
       "    }\n",
       "\n",
       "    .dataframe tbody tr th {\n",
       "        vertical-align: top;\n",
       "    }\n",
       "\n",
       "    .dataframe thead th {\n",
       "        text-align: right;\n",
       "    }\n",
       "</style>\n",
       "<table border=\"1\" class=\"dataframe\">\n",
       "  <thead>\n",
       "    <tr style=\"text-align: right;\">\n",
       "      <th></th>\n",
       "      <th>candidate</th>\n",
       "      <th>age</th>\n",
       "      <th>gender</th>\n",
       "      <th>party</th>\n",
       "      <th>race</th>\n",
       "      <th>education</th>\n",
       "    </tr>\n",
       "  </thead>\n",
       "  <tbody>\n",
       "    <tr>\n",
       "      <th>0</th>\n",
       "      <td>Someone else</td>\n",
       "      <td>30-44</td>\n",
       "      <td>Male</td>\n",
       "      <td>Independent</td>\n",
       "      <td>White</td>\n",
       "      <td>College</td>\n",
       "    </tr>\n",
       "    <tr>\n",
       "      <th>1</th>\n",
       "      <td>Hillary Clinton</td>\n",
       "      <td>45-64</td>\n",
       "      <td>Male</td>\n",
       "      <td>Republican</td>\n",
       "      <td>Hispanic</td>\n",
       "      <td>College</td>\n",
       "    </tr>\n",
       "    <tr>\n",
       "      <th>2</th>\n",
       "      <td>Hillary Clinton</td>\n",
       "      <td>30-44</td>\n",
       "      <td>Male</td>\n",
       "      <td>Independent</td>\n",
       "      <td>Hispanic</td>\n",
       "      <td>College</td>\n",
       "    </tr>\n",
       "    <tr>\n",
       "      <th>3</th>\n",
       "      <td>Hillary Clinton</td>\n",
       "      <td>65+</td>\n",
       "      <td>Female</td>\n",
       "      <td>Democrat</td>\n",
       "      <td>White</td>\n",
       "      <td>College</td>\n",
       "    </tr>\n",
       "    <tr>\n",
       "      <th>4</th>\n",
       "      <td>Donald Trump</td>\n",
       "      <td>65+</td>\n",
       "      <td>Female</td>\n",
       "      <td>Republican</td>\n",
       "      <td>White</td>\n",
       "      <td>High School</td>\n",
       "    </tr>\n",
       "  </tbody>\n",
       "</table>\n",
       "</div>"
      ],
      "text/plain": [
       "         candidate    age  gender        party      race    education\n",
       "0     Someone else  30-44    Male  Independent     White      College\n",
       "1  Hillary Clinton  45-64    Male   Republican  Hispanic      College\n",
       "2  Hillary Clinton  30-44    Male  Independent  Hispanic      College\n",
       "3  Hillary Clinton    65+  Female     Democrat     White      College\n",
       "4     Donald Trump    65+  Female   Republican     White  High School"
      ]
     },
     "execution_count": 4,
     "metadata": {},
     "output_type": "execute_result"
    }
   ],
   "source": [
    "dfpoll = pd.read_csv('polling_data_hw1.csv') # raw polling data\n",
    "dfpoll.head()"
   ]
  },
  {
   "cell_type": "code",
   "execution_count": 5,
   "metadata": {
    "ExecuteTime": {
     "end_time": "2021-09-01T20:57:32.658773Z",
     "start_time": "2021-09-01T20:57:32.605777Z"
    }
   },
   "outputs": [
    {
     "data": {
      "text/html": [
       "<div>\n",
       "<style scoped>\n",
       "    .dataframe tbody tr th:only-of-type {\n",
       "        vertical-align: middle;\n",
       "    }\n",
       "\n",
       "    .dataframe tbody tr th {\n",
       "        vertical-align: top;\n",
       "    }\n",
       "\n",
       "    .dataframe thead th {\n",
       "        text-align: right;\n",
       "    }\n",
       "</style>\n",
       "<table border=\"1\" class=\"dataframe\">\n",
       "  <thead>\n",
       "    <tr style=\"text-align: right;\">\n",
       "      <th></th>\n",
       "      <th>Electoral_Proportion</th>\n",
       "      <th>Demographic_Type_1</th>\n",
       "      <th>Demographic_Type_2</th>\n",
       "      <th>Demographic_1</th>\n",
       "      <th>Demographic_2</th>\n",
       "    </tr>\n",
       "  </thead>\n",
       "  <tbody>\n",
       "    <tr>\n",
       "      <th>0</th>\n",
       "      <td>0.387927</td>\n",
       "      <td>party</td>\n",
       "      <td>NaN</td>\n",
       "      <td>Democrat</td>\n",
       "      <td>NaN</td>\n",
       "    </tr>\n",
       "    <tr>\n",
       "      <th>1</th>\n",
       "      <td>0.398788</td>\n",
       "      <td>party</td>\n",
       "      <td>NaN</td>\n",
       "      <td>Republican</td>\n",
       "      <td>NaN</td>\n",
       "    </tr>\n",
       "    <tr>\n",
       "      <th>2</th>\n",
       "      <td>0.213285</td>\n",
       "      <td>party</td>\n",
       "      <td>NaN</td>\n",
       "      <td>Independent</td>\n",
       "      <td>NaN</td>\n",
       "    </tr>\n",
       "    <tr>\n",
       "      <th>3</th>\n",
       "      <td>0.445928</td>\n",
       "      <td>gender</td>\n",
       "      <td>NaN</td>\n",
       "      <td>Male</td>\n",
       "      <td>NaN</td>\n",
       "    </tr>\n",
       "    <tr>\n",
       "      <th>4</th>\n",
       "      <td>0.554072</td>\n",
       "      <td>gender</td>\n",
       "      <td>NaN</td>\n",
       "      <td>Female</td>\n",
       "      <td>NaN</td>\n",
       "    </tr>\n",
       "  </tbody>\n",
       "</table>\n",
       "</div>"
      ],
      "text/plain": [
       "   Electoral_Proportion Demographic_Type_1 Demographic_Type_2 Demographic_1  \\\n",
       "0              0.387927              party                NaN      Democrat   \n",
       "1              0.398788              party                NaN    Republican   \n",
       "2              0.213285              party                NaN   Independent   \n",
       "3              0.445928             gender                NaN          Male   \n",
       "4              0.554072             gender                NaN        Female   \n",
       "\n",
       "  Demographic_2  \n",
       "0           NaN  \n",
       "1           NaN  \n",
       "2           NaN  \n",
       "3           NaN  \n",
       "4           NaN  "
      ]
     },
     "execution_count": 5,
     "metadata": {},
     "output_type": "execute_result"
    }
   ],
   "source": [
    "dfdemographic = pd.read_csv('florida_proportions_hw1.csv') # proportions of population\n",
    "dfdemographic.head()"
   ]
  },
  {
   "cell_type": "code",
   "execution_count": 6,
   "metadata": {},
   "outputs": [
    {
     "data": {
      "text/html": [
       "<div>\n",
       "<style scoped>\n",
       "    .dataframe tbody tr th:only-of-type {\n",
       "        vertical-align: middle;\n",
       "    }\n",
       "\n",
       "    .dataframe tbody tr th {\n",
       "        vertical-align: top;\n",
       "    }\n",
       "\n",
       "    .dataframe thead th {\n",
       "        text-align: right;\n",
       "    }\n",
       "</style>\n",
       "<table border=\"1\" class=\"dataframe\">\n",
       "  <thead>\n",
       "    <tr style=\"text-align: right;\">\n",
       "      <th></th>\n",
       "      <th>Electoral_Proportion</th>\n",
       "      <th>Demographic_Type_1</th>\n",
       "      <th>Demographic_Type_2</th>\n",
       "      <th>Demographic_1</th>\n",
       "      <th>Demographic_2</th>\n",
       "    </tr>\n",
       "  </thead>\n",
       "  <tbody>\n",
       "    <tr>\n",
       "      <th>112</th>\n",
       "      <td>0.034216</td>\n",
       "      <td>race</td>\n",
       "      <td>education</td>\n",
       "      <td>Hispanic</td>\n",
       "      <td>Some College</td>\n",
       "    </tr>\n",
       "    <tr>\n",
       "      <th>113</th>\n",
       "      <td>0.027588</td>\n",
       "      <td>race</td>\n",
       "      <td>education</td>\n",
       "      <td>Hispanic</td>\n",
       "      <td>College</td>\n",
       "    </tr>\n",
       "    <tr>\n",
       "      <th>114</th>\n",
       "      <td>0.010929</td>\n",
       "      <td>race</td>\n",
       "      <td>education</td>\n",
       "      <td>Other</td>\n",
       "      <td>High School</td>\n",
       "    </tr>\n",
       "    <tr>\n",
       "      <th>115</th>\n",
       "      <td>0.010570</td>\n",
       "      <td>race</td>\n",
       "      <td>education</td>\n",
       "      <td>Other</td>\n",
       "      <td>Some College</td>\n",
       "    </tr>\n",
       "    <tr>\n",
       "      <th>116</th>\n",
       "      <td>0.015142</td>\n",
       "      <td>race</td>\n",
       "      <td>education</td>\n",
       "      <td>Other</td>\n",
       "      <td>College</td>\n",
       "    </tr>\n",
       "  </tbody>\n",
       "</table>\n",
       "</div>"
      ],
      "text/plain": [
       "     Electoral_Proportion Demographic_Type_1 Demographic_Type_2 Demographic_1  \\\n",
       "112              0.034216               race          education      Hispanic   \n",
       "113              0.027588               race          education      Hispanic   \n",
       "114              0.010929               race          education         Other   \n",
       "115              0.010570               race          education         Other   \n",
       "116              0.015142               race          education         Other   \n",
       "\n",
       "    Demographic_2  \n",
       "112  Some College  \n",
       "113       College  \n",
       "114   High School  \n",
       "115  Some College  \n",
       "116       College  "
      ]
     },
     "execution_count": 6,
     "metadata": {},
     "output_type": "execute_result"
    }
   ],
   "source": [
    "dfdemographic.tail()"
   ]
  },
  {
   "cell_type": "markdown",
   "metadata": {},
   "source": [
    "dfdemographic contains estimates of likely voters in Florida in 2016. When Demographic_Type_2 is NaN, the row refers to just the marginal population percentage of the group in Demographic_1 of type Demographic_Type_1. When it is not NaN, the row has the joint distribution of the corresponding demographic groups.\n",
    "\n",
    "For example, row 0 means that 38.7927% of the electorate is from the Democrat party. Row 113 means that 2.7588% of the electorate is Hispanic AND graduated college. "
   ]
  },
  {
   "cell_type": "markdown",
   "metadata": {},
   "source": [
    "## Part A: Raw visualization"
   ]
  },
  {
   "cell_type": "markdown",
   "metadata": {},
   "source": [
    "<font color='blue'> Here, we'll visualize whether the respondents in the poll match the likely voter estimates. Create a scatter-plot where each point represents one Demographic group (for example, party-Independent), where the X axis is the Electoral_Proportion in dfdemographic, and the Y axis is the proportion in dfpoll. "
   ]
  },
  {
   "cell_type": "code",
   "execution_count": 7,
   "metadata": {},
   "outputs": [],
   "source": [
    "new_dfdemographic = dfdemographic.copy(deep=True)"
   ]
  },
  {
   "cell_type": "code",
   "execution_count": 8,
   "metadata": {
    "scrolled": true
   },
   "outputs": [
    {
     "data": {
      "text/html": [
       "<div>\n",
       "<style scoped>\n",
       "    .dataframe tbody tr th:only-of-type {\n",
       "        vertical-align: middle;\n",
       "    }\n",
       "\n",
       "    .dataframe tbody tr th {\n",
       "        vertical-align: top;\n",
       "    }\n",
       "\n",
       "    .dataframe thead th {\n",
       "        text-align: right;\n",
       "    }\n",
       "</style>\n",
       "<table border=\"1\" class=\"dataframe\">\n",
       "  <thead>\n",
       "    <tr style=\"text-align: right;\">\n",
       "      <th></th>\n",
       "      <th>Electoral_Proportion</th>\n",
       "      <th>Demographic_Type_1</th>\n",
       "      <th>Demographic_Type_2</th>\n",
       "      <th>Demographic_1</th>\n",
       "      <th>Demographic_2</th>\n",
       "    </tr>\n",
       "  </thead>\n",
       "  <tbody>\n",
       "    <tr>\n",
       "      <th>0</th>\n",
       "      <td>0.387927</td>\n",
       "      <td>party</td>\n",
       "      <td>NaN</td>\n",
       "      <td>Democrat</td>\n",
       "      <td>NaN</td>\n",
       "    </tr>\n",
       "    <tr>\n",
       "      <th>1</th>\n",
       "      <td>0.398788</td>\n",
       "      <td>party</td>\n",
       "      <td>NaN</td>\n",
       "      <td>Republican</td>\n",
       "      <td>NaN</td>\n",
       "    </tr>\n",
       "    <tr>\n",
       "      <th>2</th>\n",
       "      <td>0.213285</td>\n",
       "      <td>party</td>\n",
       "      <td>NaN</td>\n",
       "      <td>Independent</td>\n",
       "      <td>NaN</td>\n",
       "    </tr>\n",
       "    <tr>\n",
       "      <th>3</th>\n",
       "      <td>0.445928</td>\n",
       "      <td>gender</td>\n",
       "      <td>NaN</td>\n",
       "      <td>Male</td>\n",
       "      <td>NaN</td>\n",
       "    </tr>\n",
       "    <tr>\n",
       "      <th>4</th>\n",
       "      <td>0.554072</td>\n",
       "      <td>gender</td>\n",
       "      <td>NaN</td>\n",
       "      <td>Female</td>\n",
       "      <td>NaN</td>\n",
       "    </tr>\n",
       "    <tr>\n",
       "      <th>...</th>\n",
       "      <td>...</td>\n",
       "      <td>...</td>\n",
       "      <td>...</td>\n",
       "      <td>...</td>\n",
       "      <td>...</td>\n",
       "    </tr>\n",
       "    <tr>\n",
       "      <th>112</th>\n",
       "      <td>0.034216</td>\n",
       "      <td>race</td>\n",
       "      <td>education</td>\n",
       "      <td>Hispanic</td>\n",
       "      <td>Some College</td>\n",
       "    </tr>\n",
       "    <tr>\n",
       "      <th>113</th>\n",
       "      <td>0.027588</td>\n",
       "      <td>race</td>\n",
       "      <td>education</td>\n",
       "      <td>Hispanic</td>\n",
       "      <td>College</td>\n",
       "    </tr>\n",
       "    <tr>\n",
       "      <th>114</th>\n",
       "      <td>0.010929</td>\n",
       "      <td>race</td>\n",
       "      <td>education</td>\n",
       "      <td>Other</td>\n",
       "      <td>High School</td>\n",
       "    </tr>\n",
       "    <tr>\n",
       "      <th>115</th>\n",
       "      <td>0.010570</td>\n",
       "      <td>race</td>\n",
       "      <td>education</td>\n",
       "      <td>Other</td>\n",
       "      <td>Some College</td>\n",
       "    </tr>\n",
       "    <tr>\n",
       "      <th>116</th>\n",
       "      <td>0.015142</td>\n",
       "      <td>race</td>\n",
       "      <td>education</td>\n",
       "      <td>Other</td>\n",
       "      <td>College</td>\n",
       "    </tr>\n",
       "  </tbody>\n",
       "</table>\n",
       "<p>117 rows × 5 columns</p>\n",
       "</div>"
      ],
      "text/plain": [
       "     Electoral_Proportion Demographic_Type_1 Demographic_Type_2 Demographic_1  \\\n",
       "0                0.387927              party                NaN      Democrat   \n",
       "1                0.398788              party                NaN    Republican   \n",
       "2                0.213285              party                NaN   Independent   \n",
       "3                0.445928             gender                NaN          Male   \n",
       "4                0.554072             gender                NaN        Female   \n",
       "..                    ...                ...                ...           ...   \n",
       "112              0.034216               race          education      Hispanic   \n",
       "113              0.027588               race          education      Hispanic   \n",
       "114              0.010929               race          education         Other   \n",
       "115              0.010570               race          education         Other   \n",
       "116              0.015142               race          education         Other   \n",
       "\n",
       "    Demographic_2  \n",
       "0             NaN  \n",
       "1             NaN  \n",
       "2             NaN  \n",
       "3             NaN  \n",
       "4             NaN  \n",
       "..            ...  \n",
       "112  Some College  \n",
       "113       College  \n",
       "114   High School  \n",
       "115  Some College  \n",
       "116       College  \n",
       "\n",
       "[117 rows x 5 columns]"
      ]
     },
     "execution_count": 8,
     "metadata": {},
     "output_type": "execute_result"
    }
   ],
   "source": [
    "new_dfdemographic"
   ]
  },
  {
   "cell_type": "code",
   "execution_count": 9,
   "metadata": {},
   "outputs": [],
   "source": [
    "proportion_lst = []\n",
    "for i in range(len(new_dfdemographic)):\n",
    "    if isinstance(new_dfdemographic[\"Demographic_Type_2\"][i], float):\n",
    "        proportion_lst.append(len(dfpoll[dfpoll[str(new_dfdemographic[\"Demographic_Type_1\"][i])]==new_dfdemographic[\"Demographic_1\"][i]])/len(dfpoll))\n",
    "    else:\n",
    "        proportion_lst.append(len(dfpoll[(dfpoll[str(new_dfdemographic[\"Demographic_Type_1\"][i])]==new_dfdemographic[\"Demographic_1\"][i]) & (dfpoll[str(new_dfdemographic[\"Demographic_Type_2\"][i])]==new_dfdemographic[\"Demographic_2\"][i])])/len(dfpoll))"
   ]
  },
  {
   "cell_type": "code",
   "execution_count": 10,
   "metadata": {},
   "outputs": [],
   "source": [
    "new_dfdemographic[\"portion_dfpoll\"] = proportion_lst"
   ]
  },
  {
   "cell_type": "code",
   "execution_count": 11,
   "metadata": {},
   "outputs": [
    {
     "data": {
      "text/html": [
       "<div>\n",
       "<style scoped>\n",
       "    .dataframe tbody tr th:only-of-type {\n",
       "        vertical-align: middle;\n",
       "    }\n",
       "\n",
       "    .dataframe tbody tr th {\n",
       "        vertical-align: top;\n",
       "    }\n",
       "\n",
       "    .dataframe thead th {\n",
       "        text-align: right;\n",
       "    }\n",
       "</style>\n",
       "<table border=\"1\" class=\"dataframe\">\n",
       "  <thead>\n",
       "    <tr style=\"text-align: right;\">\n",
       "      <th></th>\n",
       "      <th>Electoral_Proportion</th>\n",
       "      <th>Demographic_Type_1</th>\n",
       "      <th>Demographic_Type_2</th>\n",
       "      <th>Demographic_1</th>\n",
       "      <th>Demographic_2</th>\n",
       "      <th>portion_dfpoll</th>\n",
       "    </tr>\n",
       "  </thead>\n",
       "  <tbody>\n",
       "    <tr>\n",
       "      <th>0</th>\n",
       "      <td>0.387927</td>\n",
       "      <td>party</td>\n",
       "      <td>NaN</td>\n",
       "      <td>Democrat</td>\n",
       "      <td>NaN</td>\n",
       "      <td>0.358708</td>\n",
       "    </tr>\n",
       "    <tr>\n",
       "      <th>1</th>\n",
       "      <td>0.398788</td>\n",
       "      <td>party</td>\n",
       "      <td>NaN</td>\n",
       "      <td>Republican</td>\n",
       "      <td>NaN</td>\n",
       "      <td>0.272203</td>\n",
       "    </tr>\n",
       "    <tr>\n",
       "      <th>2</th>\n",
       "      <td>0.213285</td>\n",
       "      <td>party</td>\n",
       "      <td>NaN</td>\n",
       "      <td>Independent</td>\n",
       "      <td>NaN</td>\n",
       "      <td>0.348328</td>\n",
       "    </tr>\n",
       "    <tr>\n",
       "      <th>3</th>\n",
       "      <td>0.445928</td>\n",
       "      <td>gender</td>\n",
       "      <td>NaN</td>\n",
       "      <td>Male</td>\n",
       "      <td>NaN</td>\n",
       "      <td>0.491349</td>\n",
       "    </tr>\n",
       "    <tr>\n",
       "      <th>4</th>\n",
       "      <td>0.554072</td>\n",
       "      <td>gender</td>\n",
       "      <td>NaN</td>\n",
       "      <td>Female</td>\n",
       "      <td>NaN</td>\n",
       "      <td>0.508651</td>\n",
       "    </tr>\n",
       "    <tr>\n",
       "      <th>...</th>\n",
       "      <td>...</td>\n",
       "      <td>...</td>\n",
       "      <td>...</td>\n",
       "      <td>...</td>\n",
       "      <td>...</td>\n",
       "      <td>...</td>\n",
       "    </tr>\n",
       "    <tr>\n",
       "      <th>112</th>\n",
       "      <td>0.034216</td>\n",
       "      <td>race</td>\n",
       "      <td>education</td>\n",
       "      <td>Hispanic</td>\n",
       "      <td>Some College</td>\n",
       "      <td>0.068051</td>\n",
       "    </tr>\n",
       "    <tr>\n",
       "      <th>113</th>\n",
       "      <td>0.027588</td>\n",
       "      <td>race</td>\n",
       "      <td>education</td>\n",
       "      <td>Hispanic</td>\n",
       "      <td>College</td>\n",
       "      <td>0.084198</td>\n",
       "    </tr>\n",
       "    <tr>\n",
       "      <th>114</th>\n",
       "      <td>0.010929</td>\n",
       "      <td>race</td>\n",
       "      <td>education</td>\n",
       "      <td>Other</td>\n",
       "      <td>High School</td>\n",
       "      <td>0.006920</td>\n",
       "    </tr>\n",
       "    <tr>\n",
       "      <th>115</th>\n",
       "      <td>0.010570</td>\n",
       "      <td>race</td>\n",
       "      <td>education</td>\n",
       "      <td>Other</td>\n",
       "      <td>Some College</td>\n",
       "      <td>0.014994</td>\n",
       "    </tr>\n",
       "    <tr>\n",
       "      <th>116</th>\n",
       "      <td>0.015142</td>\n",
       "      <td>race</td>\n",
       "      <td>education</td>\n",
       "      <td>Other</td>\n",
       "      <td>College</td>\n",
       "      <td>0.023068</td>\n",
       "    </tr>\n",
       "  </tbody>\n",
       "</table>\n",
       "<p>117 rows × 6 columns</p>\n",
       "</div>"
      ],
      "text/plain": [
       "     Electoral_Proportion Demographic_Type_1 Demographic_Type_2 Demographic_1  \\\n",
       "0                0.387927              party                NaN      Democrat   \n",
       "1                0.398788              party                NaN    Republican   \n",
       "2                0.213285              party                NaN   Independent   \n",
       "3                0.445928             gender                NaN          Male   \n",
       "4                0.554072             gender                NaN        Female   \n",
       "..                    ...                ...                ...           ...   \n",
       "112              0.034216               race          education      Hispanic   \n",
       "113              0.027588               race          education      Hispanic   \n",
       "114              0.010929               race          education         Other   \n",
       "115              0.010570               race          education         Other   \n",
       "116              0.015142               race          education         Other   \n",
       "\n",
       "    Demographic_2  portion_dfpoll  \n",
       "0             NaN        0.358708  \n",
       "1             NaN        0.272203  \n",
       "2             NaN        0.348328  \n",
       "3             NaN        0.491349  \n",
       "4             NaN        0.508651  \n",
       "..            ...             ...  \n",
       "112  Some College        0.068051  \n",
       "113       College        0.084198  \n",
       "114   High School        0.006920  \n",
       "115  Some College        0.014994  \n",
       "116       College        0.023068  \n",
       "\n",
       "[117 rows x 6 columns]"
      ]
     },
     "execution_count": 11,
     "metadata": {},
     "output_type": "execute_result"
    }
   ],
   "source": [
    "new_dfdemographic"
   ]
  },
  {
   "cell_type": "code",
   "execution_count": 12,
   "metadata": {},
   "outputs": [],
   "source": [
    "import matplotlib.pyplot as plt"
   ]
  },
  {
   "cell_type": "code",
   "execution_count": 13,
   "metadata": {},
   "outputs": [
    {
     "data": {
      "image/png": "[encoded data removed]",
      "text/plain": [
       "<Figure size 432x288 with 1 Axes>"
      ]
     },
     "metadata": {
      "needs_background": "light"
     },
     "output_type": "display_data"
    }
   ],
   "source": [
    "plt.scatter(new_dfdemographic[\"Electoral_Proportion\"],new_dfdemographic[\"portion_dfpoll\"])\n",
    "plt.xlabel(\"Electoral_Proportion\")\n",
    "plt.ylabel(\"portion_dfpoll\")\n",
    "plt.show()"
   ]
  },
  {
   "cell_type": "markdown",
   "metadata": {},
   "source": [
    "<font color='blue'>In your view, which group is most over-represented? Most under-represented? Why? Answer in no more than 3 sentences. There are multiple reasonable definitions of \"over\" or \"under\" represented; any choice is fine as long as you justify your answer.</font>"
   ]
  },
  {
   "cell_type": "code",
   "execution_count": 14,
   "metadata": {},
   "outputs": [],
   "source": [
    "new_dfdemographic[\"Portion_Diff\"] = new_dfdemographic[\"portion_dfpoll\"] - new_dfdemographic[\"Electoral_Proportion\"]\n",
    "new_dfdemographic[\"Portion_Diff_rate\"] = new_dfdemographic[\"Portion_Diff\"]/new_dfdemographic[\"Electoral_Proportion\"]"
   ]
  },
  {
   "cell_type": "code",
   "execution_count": 15,
   "metadata": {},
   "outputs": [
    {
     "data": {
      "text/html": [
       "<div>\n",
       "<style scoped>\n",
       "    .dataframe tbody tr th:only-of-type {\n",
       "        vertical-align: middle;\n",
       "    }\n",
       "\n",
       "    .dataframe tbody tr th {\n",
       "        vertical-align: top;\n",
       "    }\n",
       "\n",
       "    .dataframe thead th {\n",
       "        text-align: right;\n",
       "    }\n",
       "</style>\n",
       "<table border=\"1\" class=\"dataframe\">\n",
       "  <thead>\n",
       "    <tr style=\"text-align: right;\">\n",
       "      <th></th>\n",
       "      <th>Electoral_Proportion</th>\n",
       "      <th>Demographic_Type_1</th>\n",
       "      <th>Demographic_Type_2</th>\n",
       "      <th>Demographic_1</th>\n",
       "      <th>Demographic_2</th>\n",
       "      <th>portion_dfpoll</th>\n",
       "      <th>Portion_Diff</th>\n",
       "      <th>Portion_Diff_rate</th>\n",
       "    </tr>\n",
       "  </thead>\n",
       "  <tbody>\n",
       "    <tr>\n",
       "      <th>79</th>\n",
       "      <td>0.020696</td>\n",
       "      <td>age</td>\n",
       "      <td>race</td>\n",
       "      <td>18-29</td>\n",
       "      <td>Hispanic</td>\n",
       "      <td>0.070358</td>\n",
       "      <td>0.049661</td>\n",
       "      <td>2.399498</td>\n",
       "    </tr>\n",
       "    <tr>\n",
       "      <th>95</th>\n",
       "      <td>0.023934</td>\n",
       "      <td>age</td>\n",
       "      <td>education</td>\n",
       "      <td>18-29</td>\n",
       "      <td>College</td>\n",
       "      <td>0.080738</td>\n",
       "      <td>0.056804</td>\n",
       "      <td>2.373389</td>\n",
       "    </tr>\n",
       "    <tr>\n",
       "      <th>113</th>\n",
       "      <td>0.027588</td>\n",
       "      <td>race</td>\n",
       "      <td>education</td>\n",
       "      <td>Hispanic</td>\n",
       "      <td>College</td>\n",
       "      <td>0.084198</td>\n",
       "      <td>0.056610</td>\n",
       "      <td>2.051971</td>\n",
       "    </tr>\n",
       "    <tr>\n",
       "      <th>30</th>\n",
       "      <td>0.034919</td>\n",
       "      <td>party</td>\n",
       "      <td>age</td>\n",
       "      <td>Independent</td>\n",
       "      <td>18-29</td>\n",
       "      <td>0.098039</td>\n",
       "      <td>0.063121</td>\n",
       "      <td>1.807643</td>\n",
       "    </tr>\n",
       "    <tr>\n",
       "      <th>80</th>\n",
       "      <td>0.006011</td>\n",
       "      <td>age</td>\n",
       "      <td>race</td>\n",
       "      <td>18-29</td>\n",
       "      <td>Other</td>\n",
       "      <td>0.014994</td>\n",
       "      <td>0.008983</td>\n",
       "      <td>1.494425</td>\n",
       "    </tr>\n",
       "  </tbody>\n",
       "</table>\n",
       "</div>"
      ],
      "text/plain": [
       "     Electoral_Proportion Demographic_Type_1 Demographic_Type_2 Demographic_1  \\\n",
       "79               0.020696                age               race         18-29   \n",
       "95               0.023934                age          education         18-29   \n",
       "113              0.027588               race          education      Hispanic   \n",
       "30               0.034919              party                age   Independent   \n",
       "80               0.006011                age               race         18-29   \n",
       "\n",
       "    Demographic_2  portion_dfpoll  Portion_Diff  Portion_Diff_rate  \n",
       "79       Hispanic        0.070358      0.049661           2.399498  \n",
       "95        College        0.080738      0.056804           2.373389  \n",
       "113       College        0.084198      0.056610           2.051971  \n",
       "30          18-29        0.098039      0.063121           1.807643  \n",
       "80          Other        0.014994      0.008983           1.494425  "
      ]
     },
     "execution_count": 15,
     "metadata": {},
     "output_type": "execute_result"
    }
   ],
   "source": [
    "new_dfdemographic.sort_values(by=\"Portion_Diff_rate\", ascending = False).head()"
   ]
  },
  {
   "cell_type": "code",
   "execution_count": 16,
   "metadata": {
    "scrolled": false
   },
   "outputs": [
    {
     "data": {
      "text/html": [
       "<div>\n",
       "<style scoped>\n",
       "    .dataframe tbody tr th:only-of-type {\n",
       "        vertical-align: middle;\n",
       "    }\n",
       "\n",
       "    .dataframe tbody tr th {\n",
       "        vertical-align: top;\n",
       "    }\n",
       "\n",
       "    .dataframe thead th {\n",
       "        text-align: right;\n",
       "    }\n",
       "</style>\n",
       "<table border=\"1\" class=\"dataframe\">\n",
       "  <thead>\n",
       "    <tr style=\"text-align: right;\">\n",
       "      <th></th>\n",
       "      <th>Electoral_Proportion</th>\n",
       "      <th>Demographic_Type_1</th>\n",
       "      <th>Demographic_Type_2</th>\n",
       "      <th>Demographic_1</th>\n",
       "      <th>Demographic_2</th>\n",
       "      <th>portion_dfpoll</th>\n",
       "      <th>Portion_Diff</th>\n",
       "      <th>Portion_Diff_rate</th>\n",
       "    </tr>\n",
       "  </thead>\n",
       "  <tbody>\n",
       "    <tr>\n",
       "      <th>102</th>\n",
       "      <td>0.153247</td>\n",
       "      <td>age</td>\n",
       "      <td>education</td>\n",
       "      <td>65+</td>\n",
       "      <td>High School</td>\n",
       "      <td>0.058824</td>\n",
       "      <td>-0.094423</td>\n",
       "      <td>-0.616152</td>\n",
       "    </tr>\n",
       "    <tr>\n",
       "      <th>49</th>\n",
       "      <td>0.137253</td>\n",
       "      <td>party</td>\n",
       "      <td>education</td>\n",
       "      <td>Republican</td>\n",
       "      <td>High School</td>\n",
       "      <td>0.055363</td>\n",
       "      <td>-0.081890</td>\n",
       "      <td>-0.596634</td>\n",
       "    </tr>\n",
       "    <tr>\n",
       "      <th>96</th>\n",
       "      <td>0.048088</td>\n",
       "      <td>age</td>\n",
       "      <td>education</td>\n",
       "      <td>30-44</td>\n",
       "      <td>High School</td>\n",
       "      <td>0.019608</td>\n",
       "      <td>-0.028480</td>\n",
       "      <td>-0.592253</td>\n",
       "    </tr>\n",
       "    <tr>\n",
       "      <th>105</th>\n",
       "      <td>0.235884</td>\n",
       "      <td>race</td>\n",
       "      <td>education</td>\n",
       "      <td>White</td>\n",
       "      <td>High School</td>\n",
       "      <td>0.100346</td>\n",
       "      <td>-0.135538</td>\n",
       "      <td>-0.574595</td>\n",
       "    </tr>\n",
       "    <tr>\n",
       "      <th>99</th>\n",
       "      <td>0.139230</td>\n",
       "      <td>age</td>\n",
       "      <td>education</td>\n",
       "      <td>45-64</td>\n",
       "      <td>High School</td>\n",
       "      <td>0.065744</td>\n",
       "      <td>-0.073486</td>\n",
       "      <td>-0.527804</td>\n",
       "    </tr>\n",
       "  </tbody>\n",
       "</table>\n",
       "</div>"
      ],
      "text/plain": [
       "     Electoral_Proportion Demographic_Type_1 Demographic_Type_2 Demographic_1  \\\n",
       "102              0.153247                age          education           65+   \n",
       "49               0.137253              party          education    Republican   \n",
       "96               0.048088                age          education         30-44   \n",
       "105              0.235884               race          education         White   \n",
       "99               0.139230                age          education         45-64   \n",
       "\n",
       "    Demographic_2  portion_dfpoll  Portion_Diff  Portion_Diff_rate  \n",
       "102   High School        0.058824     -0.094423          -0.616152  \n",
       "49    High School        0.055363     -0.081890          -0.596634  \n",
       "96    High School        0.019608     -0.028480          -0.592253  \n",
       "105   High School        0.100346     -0.135538          -0.574595  \n",
       "99    High School        0.065744     -0.073486          -0.527804  "
      ]
     },
     "execution_count": 16,
     "metadata": {},
     "output_type": "execute_result"
    }
   ],
   "source": [
    "new_dfdemographic.sort_values(by=\"Portion_Diff_rate\", ascending = True).head()"
   ]
  },
  {
   "cell_type": "markdown",
   "metadata": {},
   "source": [
    "Based on fraction analysis, the most over-represented group is Hispanic with age 18-29, because in the real poll, voters in this group votes 2.399 times more than the estimates of likely voters, which shows the highest difference. The most under-represenetd group is people age 65+ with High School education level, because the real voters are 0.61 times less than the estimates of likely voters, which shows the most negative difference by fraction."
   ]
  },
  {
   "cell_type": "markdown",
   "metadata": {},
   "source": [
    "## Part B: Weighting"
   ]
  },
  {
   "cell_type": "markdown",
   "metadata": {},
   "source": [
    "<font color='blue'> For this question, we'll ignore people who answered anything but \"Hillary Clinton\" or \"Donald Trump.\"\n",
    "\n",
    "\n",
    "You'll notice that some of the groups in the polling data (\"refused\") do not show up in the population percentages. For the questions that require weighting by demographics, ignore those respondents.\n",
    "\n"
   ]
  },
  {
   "cell_type": "markdown",
   "metadata": {},
   "source": [
    "### 1) Raw average"
   ]
  },
  {
   "cell_type": "markdown",
   "metadata": {},
   "source": [
    "<font color='blue'> Below, report the \"raw polling average,\" the percentage of people \"Hillary Clinton\" divided by the number who answered either Hillary or Trump."
   ]
  },
  {
   "cell_type": "code",
   "execution_count": 129,
   "metadata": {
    "scrolled": true
   },
   "outputs": [
    {
     "data": {
      "text/html": [
       "<div>\n",
       "<style scoped>\n",
       "    .dataframe tbody tr th:only-of-type {\n",
       "        vertical-align: middle;\n",
       "    }\n",
       "\n",
       "    .dataframe tbody tr th {\n",
       "        vertical-align: top;\n",
       "    }\n",
       "\n",
       "    .dataframe thead th {\n",
       "        text-align: right;\n",
       "    }\n",
       "</style>\n",
       "<table border=\"1\" class=\"dataframe\">\n",
       "  <thead>\n",
       "    <tr style=\"text-align: right;\">\n",
       "      <th></th>\n",
       "      <th>candidate</th>\n",
       "      <th>age</th>\n",
       "      <th>gender</th>\n",
       "      <th>party</th>\n",
       "      <th>race</th>\n",
       "      <th>education</th>\n",
       "    </tr>\n",
       "  </thead>\n",
       "  <tbody>\n",
       "    <tr>\n",
       "      <th>1</th>\n",
       "      <td>Hillary Clinton</td>\n",
       "      <td>45-64</td>\n",
       "      <td>Male</td>\n",
       "      <td>Republican</td>\n",
       "      <td>Hispanic</td>\n",
       "      <td>College</td>\n",
       "    </tr>\n",
       "    <tr>\n",
       "      <th>2</th>\n",
       "      <td>Hillary Clinton</td>\n",
       "      <td>30-44</td>\n",
       "      <td>Male</td>\n",
       "      <td>Independent</td>\n",
       "      <td>Hispanic</td>\n",
       "      <td>College</td>\n",
       "    </tr>\n",
       "    <tr>\n",
       "      <th>3</th>\n",
       "      <td>Hillary Clinton</td>\n",
       "      <td>65+</td>\n",
       "      <td>Female</td>\n",
       "      <td>Democrat</td>\n",
       "      <td>White</td>\n",
       "      <td>College</td>\n",
       "    </tr>\n",
       "    <tr>\n",
       "      <th>4</th>\n",
       "      <td>Donald Trump</td>\n",
       "      <td>65+</td>\n",
       "      <td>Female</td>\n",
       "      <td>Republican</td>\n",
       "      <td>White</td>\n",
       "      <td>High School</td>\n",
       "    </tr>\n",
       "    <tr>\n",
       "      <th>5</th>\n",
       "      <td>Hillary Clinton</td>\n",
       "      <td>18-29</td>\n",
       "      <td>Male</td>\n",
       "      <td>Independent</td>\n",
       "      <td>Black</td>\n",
       "      <td>Some College</td>\n",
       "    </tr>\n",
       "    <tr>\n",
       "      <th>...</th>\n",
       "      <td>...</td>\n",
       "      <td>...</td>\n",
       "      <td>...</td>\n",
       "      <td>...</td>\n",
       "      <td>...</td>\n",
       "      <td>...</td>\n",
       "    </tr>\n",
       "    <tr>\n",
       "      <th>861</th>\n",
       "      <td>Donald Trump</td>\n",
       "      <td>18-29</td>\n",
       "      <td>Male</td>\n",
       "      <td>Republican</td>\n",
       "      <td>Hispanic</td>\n",
       "      <td>High School</td>\n",
       "    </tr>\n",
       "    <tr>\n",
       "      <th>862</th>\n",
       "      <td>Hillary Clinton</td>\n",
       "      <td>65+</td>\n",
       "      <td>Male</td>\n",
       "      <td>Democrat</td>\n",
       "      <td>White</td>\n",
       "      <td>Some College</td>\n",
       "    </tr>\n",
       "    <tr>\n",
       "      <th>863</th>\n",
       "      <td>Donald Trump</td>\n",
       "      <td>65+</td>\n",
       "      <td>Male</td>\n",
       "      <td>Independent</td>\n",
       "      <td>White</td>\n",
       "      <td>College</td>\n",
       "    </tr>\n",
       "    <tr>\n",
       "      <th>864</th>\n",
       "      <td>Hillary Clinton</td>\n",
       "      <td>18-29</td>\n",
       "      <td>Female</td>\n",
       "      <td>Democrat</td>\n",
       "      <td>Other</td>\n",
       "      <td>College</td>\n",
       "    </tr>\n",
       "    <tr>\n",
       "      <th>866</th>\n",
       "      <td>Hillary Clinton</td>\n",
       "      <td>65+</td>\n",
       "      <td>Male</td>\n",
       "      <td>Democrat</td>\n",
       "      <td>White</td>\n",
       "      <td>College</td>\n",
       "    </tr>\n",
       "  </tbody>\n",
       "</table>\n",
       "<p>720 rows × 6 columns</p>\n",
       "</div>"
      ],
      "text/plain": [
       "           candidate    age  gender        party      race     education\n",
       "1    Hillary Clinton  45-64    Male   Republican  Hispanic       College\n",
       "2    Hillary Clinton  30-44    Male  Independent  Hispanic       College\n",
       "3    Hillary Clinton    65+  Female     Democrat     White       College\n",
       "4       Donald Trump    65+  Female   Republican     White   High School\n",
       "5    Hillary Clinton  18-29    Male  Independent     Black  Some College\n",
       "..               ...    ...     ...          ...       ...           ...\n",
       "861     Donald Trump  18-29    Male   Republican  Hispanic   High School\n",
       "862  Hillary Clinton    65+    Male     Democrat     White  Some College\n",
       "863     Donald Trump    65+    Male  Independent     White       College\n",
       "864  Hillary Clinton  18-29  Female     Democrat     Other       College\n",
       "866  Hillary Clinton    65+    Male     Democrat     White       College\n",
       "\n",
       "[720 rows x 6 columns]"
      ]
     },
     "execution_count": 129,
     "metadata": {},
     "output_type": "execute_result"
    }
   ],
   "source": [
    "only_hillary_trump = dfpoll[dfpoll.candidate.isin([\"Hillary Clinton\",\"Donald Trump\"])]\n",
    "only_hillary_trump"
   ]
  },
  {
   "cell_type": "code",
   "execution_count": 130,
   "metadata": {},
   "outputs": [
    {
     "name": "stdout",
     "output_type": "stream",
     "text": [
      "Raw polling average is 0.5458333333333333\n"
     ]
    }
   ],
   "source": [
    "print('Raw polling average is',len(only_hillary_trump[only_hillary_trump.candidate == \"Hillary Clinton\"])/len(only_hillary_trump))"
   ]
  },
  {
   "cell_type": "markdown",
   "metadata": {},
   "source": [
    "### 2) Single dimensional marginal weighting (on just 1 demographic type)"
   ]
  },
  {
   "cell_type": "markdown",
   "metadata": {},
   "source": [
    "<font color='blue'> For each demographic type separately -- age, gender, party, race, and education -- weight the poll by just that demographic type, in accordance to the population proportions given. Report the resulting poll results, and briefly (at most 3 sentences) describe what you observe.\n",
    "\n",
    "\n",
    "For example, when weighted by race, you'll report:\n",
    "\n",
    "Weighted by race --- Clinton: 0.530, Trump: 0.470\n"
   ]
  },
  {
   "cell_type": "code",
   "execution_count": 19,
   "metadata": {
    "scrolled": true
   },
   "outputs": [
    {
     "name": "stdout",
     "output_type": "stream",
     "text": [
      "Trump weight by age is: 0.4694579870278752\n",
      "Hillary weight by age is: 0.5305420129721238\n"
     ]
    }
   ],
   "source": [
    "# Weight by age\n",
    "only_hillary_trump_age = only_hillary_trump[only_hillary_trump.age != \"Refused\"]\n",
    "by_age = only_hillary_trump_age.groupby([\"candidate\",\"age\"]).count()\n",
    "age_count = only_hillary_trump_age.groupby([\"age\"])[\"candidate\"].count().reset_index(name='counts_by_age')\n",
    "age_count\n",
    "by_age[\"candidate\"] = ['Donald Trump']*len(age_count)+['Hillary Clinton']*len(age_count)\n",
    "\n",
    "by_age_count = pd.merge(by_age,age_count, left_on='age', right_on='age', how='left')\n",
    "by_age_count[\"portion\"] = by_age_count[\"race\"]/by_age_count[\"counts_by_age\"]\n",
    "by_age_count\n",
    "\n",
    "true_age_portion = dfdemographic[(dfdemographic.Demographic_Type_1 == \"age\") & (dfdemographic.Demographic_Type_2.isnull())]\n",
    "true_age_portion\n",
    "\n",
    "by_age_count_final = pd.merge(by_age_count,true_age_portion, left_on='age', right_on='Demographic_1', how='left')\n",
    "by_age_count_final\n",
    "\n",
    "trump_age = by_age_count_final[by_age_count_final.candidate==\"Donald Trump\"]\n",
    "hillary_age = by_age_count_final[by_age_count_final.candidate==\"Hillary Clinton\"]\n",
    "print(\"Trump weight by age is:\", sum(trump_age[\"portion\"]*trump_age[\"Electoral_Proportion\"]))\n",
    "print(\"Hillary weight by age is:\", sum(hillary_age[\"portion\"]*hillary_age[\"Electoral_Proportion\"]))"
   ]
  },
  {
   "cell_type": "code",
   "execution_count": 20,
   "metadata": {},
   "outputs": [
    {
     "name": "stdout",
     "output_type": "stream",
     "text": [
      "Trump weight by gender is: 0.45017664792495266\n",
      "Hillary weight by gender is: 0.5498233520750473\n"
     ]
    }
   ],
   "source": [
    "# Weight by gender\n",
    "only_hillary_trump_gender = only_hillary_trump[only_hillary_trump.gender != \"Refused\"]\n",
    "by_gender = only_hillary_trump_gender.groupby([\"candidate\",\"gender\"]).count()\n",
    "gender_count = only_hillary_trump_gender.groupby([\"gender\"])[\"candidate\"].count().reset_index(name='counts_by_gender')\n",
    "gender_count\n",
    "by_gender[\"candidate\"] = ['Donald Trump']*len(gender_count)+['Hillary Clinton']*len(gender_count)\n",
    "\n",
    "by_gender_count = pd.merge(by_gender,gender_count, left_on='gender', right_on='gender', how='left')\n",
    "by_gender_count[\"portion\"] = by_gender_count[\"race\"]/by_gender_count[\"counts_by_gender\"]\n",
    "by_gender_count\n",
    "\n",
    "true_gender_portion = dfdemographic[(dfdemographic.Demographic_Type_1 == \"gender\") & (dfdemographic.Demographic_Type_2.isnull())]\n",
    "true_gender_portion\n",
    "\n",
    "by_gender_count_final = pd.merge(by_gender_count,true_gender_portion, left_on='gender', right_on='Demographic_1', how='left')\n",
    "by_gender_count_final\n",
    "\n",
    "trump_gender = by_gender_count_final[by_gender_count_final.candidate==\"Donald Trump\"]\n",
    "hillary_gender = by_gender_count_final[by_gender_count_final.candidate==\"Hillary Clinton\"]\n",
    "print(\"Trump weight by gender is:\", sum(trump_gender[\"portion\"]*trump_gender[\"Electoral_Proportion\"]))\n",
    "print(\"Hillary weight by gender is:\", sum(hillary_gender[\"portion\"]*hillary_gender[\"Electoral_Proportion\"]))"
   ]
  },
  {
   "cell_type": "code",
   "execution_count": 21,
   "metadata": {},
   "outputs": [
    {
     "name": "stdout",
     "output_type": "stream",
     "text": [
      "Trump weight by party is: 0.5012804969562159\n",
      "Hillary weight by party is: 0.4987195030437841\n"
     ]
    }
   ],
   "source": [
    "# Weight by party\n",
    "only_hillary_trump_party = only_hillary_trump[only_hillary_trump.party != \"Refused\"]\n",
    "by_party = only_hillary_trump_party.groupby([\"candidate\",\"party\"]).count()\n",
    "party_count = only_hillary_trump_party.groupby([\"party\"])[\"candidate\"].count().reset_index(name='counts_by_party')\n",
    "party_count\n",
    "by_party[\"candidate\"] = ['Donald Trump']*len(party_count)+['Hillary Clinton']*len(party_count)\n",
    "\n",
    "by_party_count = pd.merge(by_party,party_count, left_on='party', right_on='party', how='left')\n",
    "by_party_count[\"portion\"] = by_party_count[\"race\"]/by_party_count[\"counts_by_party\"]\n",
    "by_party_count\n",
    "\n",
    "true_party_portion = dfdemographic[(dfdemographic.Demographic_Type_1 == \"party\") & (dfdemographic.Demographic_Type_2.isnull())]\n",
    "true_party_portion\n",
    "\n",
    "by_party_count_final = pd.merge(by_party_count,true_party_portion, left_on='party', right_on='Demographic_1', how='left')\n",
    "by_party_count_final\n",
    "\n",
    "trump_party = by_party_count_final[by_party_count_final.candidate==\"Donald Trump\"]\n",
    "hillary_party = by_party_count_final[by_party_count_final.candidate==\"Hillary Clinton\"]\n",
    "print(\"Trump weight by party is:\", sum(trump_party[\"portion\"]*trump_party[\"Electoral_Proportion\"]))\n",
    "print(\"Hillary weight by party is:\", sum(hillary_party[\"portion\"]*hillary_party[\"Electoral_Proportion\"]))"
   ]
  },
  {
   "cell_type": "code",
   "execution_count": 22,
   "metadata": {},
   "outputs": [
    {
     "name": "stdout",
     "output_type": "stream",
     "text": [
      "Trump weight by race is: 0.4695140471484364\n",
      "Hillary weight by race is: 0.5304859528515626\n"
     ]
    }
   ],
   "source": [
    "# Weight by race\n",
    "only_hillary_trump_race = only_hillary_trump[only_hillary_trump.race != \"Refused\"]\n",
    "by_race = only_hillary_trump_race.groupby([\"candidate\",\"race\"]).count()\n",
    "race_count = only_hillary_trump_race.groupby([\"race\"])[\"candidate\"].count().reset_index(name='counts_by_race')\n",
    "race_count\n",
    "by_race[\"candidate\"] = ['Donald Trump']*len(race_count)+['Hillary Clinton']*len(race_count)\n",
    "\n",
    "by_race_count = pd.merge(by_race,race_count, left_on='race', right_on='race', how='left')\n",
    "by_race_count[\"portion\"] = by_race_count[\"age\"]/by_race_count[\"counts_by_race\"]\n",
    "by_race_count\n",
    "\n",
    "true_race_portion = dfdemographic[(dfdemographic.Demographic_Type_1 == \"race\") & (dfdemographic.Demographic_Type_2.isnull())]\n",
    "true_race_portion\n",
    "\n",
    "by_race_count_final = pd.merge(by_race_count,true_race_portion, left_on='race', right_on='Demographic_1', how='left')\n",
    "by_race_count_final\n",
    "\n",
    "trump_race = by_race_count_final[by_race_count_final.candidate==\"Donald Trump\"]\n",
    "hillary_race = by_race_count_final[by_race_count_final.candidate==\"Hillary Clinton\"]\n",
    "print(\"Trump weight by race is:\", sum(trump_race[\"portion\"]*trump_race[\"Electoral_Proportion\"]))\n",
    "print(\"Hillary weight by race is:\", sum(hillary_race[\"portion\"]*hillary_race[\"Electoral_Proportion\"]))"
   ]
  },
  {
   "cell_type": "code",
   "execution_count": 23,
   "metadata": {},
   "outputs": [
    {
     "name": "stdout",
     "output_type": "stream",
     "text": [
      "Trump weight by education is: 0.4559412977166821\n",
      "Hillary weight by education is: 0.5440587022833179\n"
     ]
    }
   ],
   "source": [
    "# Weight by education\n",
    "only_hillary_trump_education = only_hillary_trump[only_hillary_trump.education != \"Refused\"]\n",
    "by_education = only_hillary_trump_education.groupby([\"candidate\",\"education\"]).count()\n",
    "education_count = only_hillary_trump_education.groupby([\"education\"])[\"candidate\"].count().reset_index(name='counts_by_education')\n",
    "education_count\n",
    "by_education[\"candidate\"] = ['Donald Trump']*len(education_count)+['Hillary Clinton']*len(education_count)\n",
    "\n",
    "by_education_count = pd.merge(by_education,education_count, left_on='education', right_on='education', how='left')\n",
    "by_education_count[\"portion\"] = by_education_count[\"age\"]/by_education_count[\"counts_by_education\"]\n",
    "by_education_count\n",
    "\n",
    "true_education_portion = dfdemographic[(dfdemographic.Demographic_Type_1 == \"education\") & (dfdemographic.Demographic_Type_2.isnull())]\n",
    "true_education_portion\n",
    "\n",
    "by_education_count_final = pd.merge(by_education_count,true_education_portion, left_on='education', right_on='Demographic_1', how='left')\n",
    "by_education_count_final\n",
    "\n",
    "trump_education = by_education_count_final[by_education_count_final.candidate==\"Donald Trump\"]\n",
    "hillary_education = by_education_count_final[by_education_count_final.candidate==\"Hillary Clinton\"]\n",
    "print(\"Trump weight by education is:\", sum(trump_education[\"portion\"]*trump_education[\"Electoral_Proportion\"]))\n",
    "print(\"Hillary weight by education is:\", sum(hillary_education[\"portion\"]*hillary_education[\"Electoral_Proportion\"]))"
   ]
  },
  {
   "cell_type": "markdown",
   "metadata": {},
   "source": [
    "### 2-dimensional joint distribution weighting"
   ]
  },
  {
   "cell_type": "markdown",
   "metadata": {},
   "source": [
    "<font color='blue'>Now, for each pair of demographic types in dfdemographic, do the same -- weight the poll by that pair of demographic types, in accordance to the given joint distributions, and briefly (at most 3 sentences) describe what you observe.\n",
    "\n",
    "For example, when weighted by race and age, you'll find:\n",
    "\n",
    "Weighted by age and race: Clinton: 0.525, Trump: 0.475"
   ]
  },
  {
   "cell_type": "code",
   "execution_count": 144,
   "metadata": {},
   "outputs": [
    {
     "data": {
      "text/html": [
       "<div>\n",
       "<style scoped>\n",
       "    .dataframe tbody tr th:only-of-type {\n",
       "        vertical-align: middle;\n",
       "    }\n",
       "\n",
       "    .dataframe tbody tr th {\n",
       "        vertical-align: top;\n",
       "    }\n",
       "\n",
       "    .dataframe thead th {\n",
       "        text-align: right;\n",
       "    }\n",
       "</style>\n",
       "<table border=\"1\" class=\"dataframe\">\n",
       "  <thead>\n",
       "    <tr style=\"text-align: right;\">\n",
       "      <th></th>\n",
       "      <th></th>\n",
       "      <th></th>\n",
       "      <th>gender</th>\n",
       "      <th>party</th>\n",
       "      <th>education</th>\n",
       "    </tr>\n",
       "    <tr>\n",
       "      <th>candidate</th>\n",
       "      <th>race</th>\n",
       "      <th>age</th>\n",
       "      <th></th>\n",
       "      <th></th>\n",
       "      <th></th>\n",
       "    </tr>\n",
       "  </thead>\n",
       "  <tbody>\n",
       "    <tr>\n",
       "      <th rowspan=\"17\" valign=\"top\">Donald Trump</th>\n",
       "      <th rowspan=\"3\" valign=\"top\">Black</th>\n",
       "      <th>18-29</th>\n",
       "      <td>2</td>\n",
       "      <td>2</td>\n",
       "      <td>2</td>\n",
       "    </tr>\n",
       "    <tr>\n",
       "      <th>45-64</th>\n",
       "      <td>2</td>\n",
       "      <td>2</td>\n",
       "      <td>2</td>\n",
       "    </tr>\n",
       "    <tr>\n",
       "      <th>65+</th>\n",
       "      <td>1</td>\n",
       "      <td>1</td>\n",
       "      <td>1</td>\n",
       "    </tr>\n",
       "    <tr>\n",
       "      <th rowspan=\"4\" valign=\"top\">Hispanic</th>\n",
       "      <th>18-29</th>\n",
       "      <td>9</td>\n",
       "      <td>9</td>\n",
       "      <td>9</td>\n",
       "    </tr>\n",
       "    <tr>\n",
       "      <th>30-44</th>\n",
       "      <td>7</td>\n",
       "      <td>7</td>\n",
       "      <td>7</td>\n",
       "    </tr>\n",
       "    <tr>\n",
       "      <th>45-64</th>\n",
       "      <td>11</td>\n",
       "      <td>11</td>\n",
       "      <td>11</td>\n",
       "    </tr>\n",
       "    <tr>\n",
       "      <th>65+</th>\n",
       "      <td>6</td>\n",
       "      <td>6</td>\n",
       "      <td>6</td>\n",
       "    </tr>\n",
       "    <tr>\n",
       "      <th rowspan=\"4\" valign=\"top\">Other</th>\n",
       "      <th>18-29</th>\n",
       "      <td>2</td>\n",
       "      <td>2</td>\n",
       "      <td>2</td>\n",
       "    </tr>\n",
       "    <tr>\n",
       "      <th>30-44</th>\n",
       "      <td>3</td>\n",
       "      <td>3</td>\n",
       "      <td>3</td>\n",
       "    </tr>\n",
       "    <tr>\n",
       "      <th>45-64</th>\n",
       "      <td>3</td>\n",
       "      <td>3</td>\n",
       "      <td>3</td>\n",
       "    </tr>\n",
       "    <tr>\n",
       "      <th>65+</th>\n",
       "      <td>2</td>\n",
       "      <td>2</td>\n",
       "      <td>2</td>\n",
       "    </tr>\n",
       "    <tr>\n",
       "      <th rowspan=\"2\" valign=\"top\">Refused</th>\n",
       "      <th>30-44</th>\n",
       "      <td>4</td>\n",
       "      <td>4</td>\n",
       "      <td>4</td>\n",
       "    </tr>\n",
       "    <tr>\n",
       "      <th>45-64</th>\n",
       "      <td>6</td>\n",
       "      <td>6</td>\n",
       "      <td>6</td>\n",
       "    </tr>\n",
       "    <tr>\n",
       "      <th rowspan=\"4\" valign=\"top\">White</th>\n",
       "      <th>18-29</th>\n",
       "      <td>34</td>\n",
       "      <td>34</td>\n",
       "      <td>34</td>\n",
       "    </tr>\n",
       "    <tr>\n",
       "      <th>30-44</th>\n",
       "      <td>37</td>\n",
       "      <td>37</td>\n",
       "      <td>37</td>\n",
       "    </tr>\n",
       "    <tr>\n",
       "      <th>45-64</th>\n",
       "      <td>94</td>\n",
       "      <td>94</td>\n",
       "      <td>94</td>\n",
       "    </tr>\n",
       "    <tr>\n",
       "      <th>65+</th>\n",
       "      <td>104</td>\n",
       "      <td>104</td>\n",
       "      <td>104</td>\n",
       "    </tr>\n",
       "    <tr>\n",
       "      <th rowspan=\"19\" valign=\"top\">Hillary Clinton</th>\n",
       "      <th rowspan=\"4\" valign=\"top\">Black</th>\n",
       "      <th>18-29</th>\n",
       "      <td>22</td>\n",
       "      <td>22</td>\n",
       "      <td>22</td>\n",
       "    </tr>\n",
       "    <tr>\n",
       "      <th>30-44</th>\n",
       "      <td>13</td>\n",
       "      <td>13</td>\n",
       "      <td>13</td>\n",
       "    </tr>\n",
       "    <tr>\n",
       "      <th>45-64</th>\n",
       "      <td>26</td>\n",
       "      <td>26</td>\n",
       "      <td>26</td>\n",
       "    </tr>\n",
       "    <tr>\n",
       "      <th>65+</th>\n",
       "      <td>16</td>\n",
       "      <td>16</td>\n",
       "      <td>16</td>\n",
       "    </tr>\n",
       "    <tr>\n",
       "      <th rowspan=\"4\" valign=\"top\">Hispanic</th>\n",
       "      <th>18-29</th>\n",
       "      <td>35</td>\n",
       "      <td>35</td>\n",
       "      <td>35</td>\n",
       "    </tr>\n",
       "    <tr>\n",
       "      <th>30-44</th>\n",
       "      <td>27</td>\n",
       "      <td>27</td>\n",
       "      <td>27</td>\n",
       "    </tr>\n",
       "    <tr>\n",
       "      <th>45-64</th>\n",
       "      <td>28</td>\n",
       "      <td>28</td>\n",
       "      <td>28</td>\n",
       "    </tr>\n",
       "    <tr>\n",
       "      <th>65+</th>\n",
       "      <td>20</td>\n",
       "      <td>20</td>\n",
       "      <td>20</td>\n",
       "    </tr>\n",
       "    <tr>\n",
       "      <th rowspan=\"4\" valign=\"top\">Other</th>\n",
       "      <th>18-29</th>\n",
       "      <td>8</td>\n",
       "      <td>8</td>\n",
       "      <td>8</td>\n",
       "    </tr>\n",
       "    <tr>\n",
       "      <th>30-44</th>\n",
       "      <td>5</td>\n",
       "      <td>5</td>\n",
       "      <td>5</td>\n",
       "    </tr>\n",
       "    <tr>\n",
       "      <th>45-64</th>\n",
       "      <td>5</td>\n",
       "      <td>5</td>\n",
       "      <td>5</td>\n",
       "    </tr>\n",
       "    <tr>\n",
       "      <th>65+</th>\n",
       "      <td>2</td>\n",
       "      <td>2</td>\n",
       "      <td>2</td>\n",
       "    </tr>\n",
       "    <tr>\n",
       "      <th rowspan=\"3\" valign=\"top\">Refused</th>\n",
       "      <th>30-44</th>\n",
       "      <td>3</td>\n",
       "      <td>3</td>\n",
       "      <td>3</td>\n",
       "    </tr>\n",
       "    <tr>\n",
       "      <th>45-64</th>\n",
       "      <td>2</td>\n",
       "      <td>2</td>\n",
       "      <td>2</td>\n",
       "    </tr>\n",
       "    <tr>\n",
       "      <th>65+</th>\n",
       "      <td>2</td>\n",
       "      <td>2</td>\n",
       "      <td>2</td>\n",
       "    </tr>\n",
       "    <tr>\n",
       "      <th rowspan=\"4\" valign=\"top\">White</th>\n",
       "      <th>18-29</th>\n",
       "      <td>32</td>\n",
       "      <td>32</td>\n",
       "      <td>32</td>\n",
       "    </tr>\n",
       "    <tr>\n",
       "      <th>30-44</th>\n",
       "      <td>26</td>\n",
       "      <td>26</td>\n",
       "      <td>26</td>\n",
       "    </tr>\n",
       "    <tr>\n",
       "      <th>45-64</th>\n",
       "      <td>55</td>\n",
       "      <td>55</td>\n",
       "      <td>55</td>\n",
       "    </tr>\n",
       "    <tr>\n",
       "      <th>65+</th>\n",
       "      <td>66</td>\n",
       "      <td>66</td>\n",
       "      <td>66</td>\n",
       "    </tr>\n",
       "  </tbody>\n",
       "</table>\n",
       "</div>"
      ],
      "text/plain": [
       "                                gender  party  education\n",
       "candidate       race     age                            \n",
       "Donald Trump    Black    18-29       2      2          2\n",
       "                         45-64       2      2          2\n",
       "                         65+         1      1          1\n",
       "                Hispanic 18-29       9      9          9\n",
       "                         30-44       7      7          7\n",
       "                         45-64      11     11         11\n",
       "                         65+         6      6          6\n",
       "                Other    18-29       2      2          2\n",
       "                         30-44       3      3          3\n",
       "                         45-64       3      3          3\n",
       "                         65+         2      2          2\n",
       "                Refused  30-44       4      4          4\n",
       "                         45-64       6      6          6\n",
       "                White    18-29      34     34         34\n",
       "                         30-44      37     37         37\n",
       "                         45-64      94     94         94\n",
       "                         65+       104    104        104\n",
       "Hillary Clinton Black    18-29      22     22         22\n",
       "                         30-44      13     13         13\n",
       "                         45-64      26     26         26\n",
       "                         65+        16     16         16\n",
       "                Hispanic 18-29      35     35         35\n",
       "                         30-44      27     27         27\n",
       "                         45-64      28     28         28\n",
       "                         65+        20     20         20\n",
       "                Other    18-29       8      8          8\n",
       "                         30-44       5      5          5\n",
       "                         45-64       5      5          5\n",
       "                         65+         2      2          2\n",
       "                Refused  30-44       3      3          3\n",
       "                         45-64       2      2          2\n",
       "                         65+         2      2          2\n",
       "                White    18-29      32     32         32\n",
       "                         30-44      26     26         26\n",
       "                         45-64      55     55         55\n",
       "                         65+        66     66         66"
      ]
     },
     "execution_count": 144,
     "metadata": {},
     "output_type": "execute_result"
    }
   ],
   "source": [
    "only_hillary_trump\n",
    "type1 = \"race\"\n",
    "type2 = \"age\"\n",
    "only_hillary_trump.groupby([\"candidate\",type1,type2]).count()"
   ]
  },
  {
   "cell_type": "code",
   "execution_count": 81,
   "metadata": {},
   "outputs": [],
   "source": [
    "# Problem arised since there are missing pairs \n",
    "# So let us use loops to solve the problem\n",
    "# First let us define a function that take the pair of demographic types as arguments which returns weighted vote\n",
    "def getJointWeighting(type1, type2):\n",
    "    type1_lst = dfdemographic[dfdemographic['Demographic_Type_1']==type1]['Demographic_1'].unique()\n",
    "    type2_lst = dfdemographic[dfdemographic['Demographic_Type_1']==type2]['Demographic_1'].unique()\n",
    "    \n",
    "    trump_lst = []\n",
    "    hillary_lst = []\n",
    "    frac_trump_lst = []\n",
    "    frac_hillary_lst = []\n",
    "    E_proportion = []\n",
    "    group = []\n",
    "    real_frac_trump = []\n",
    "    real_frac_hillary = []\n",
    "        \n",
    "    df = only_hillary_trump[(only_hillary_trump[type1] != 'refused') & (only_hillary_trump[type2] != 'refused')]\n",
    "    for m in type1_lst:\n",
    "        for n in type2_lst:\n",
    "            count_trump = len(df[(df['candidate'] == 'Donald Trump') & (df[type1] == m) & (df[type2] == n)])\n",
    "            count_hillary = len(df[(df['candidate'] == 'Hillary Clinton') & (df[type1] == m) & (df[type2] == n)])\n",
    "            total = count_trump + count_hillary\n",
    "            frac_trump = count_trump/total\n",
    "            frac_hillary = count_hillary/total\n",
    "            e_prop = float(dfdemographic['Electoral_Proportion'][(dfdemographic['Demographic_1'] == m) & (dfdemographic['Demographic_2'] == n)])\n",
    "            trump_lst.append(count_trump)\n",
    "            hillary_lst.append(count_hillary)\n",
    "            frac_trump_lst.append(frac_trump)\n",
    "            frac_hillary_lst.append(frac_hillary)\n",
    "            \n",
    "            E_proportion.append(e_prop)\n",
    "            group.append([m,n])\n",
    "            real_frac_trump.append(frac_trump*e_prop)\n",
    "            real_frac_hillary.append(frac_hillary*e_prop)\n",
    "    trump_weighted = 0\n",
    "    hillary_weighted = 0 \n",
    "    \n",
    "    \n",
    "    return [sum(real_frac_trump),sum(real_frac_hillary)]"
   ]
  },
  {
   "cell_type": "code",
   "execution_count": 100,
   "metadata": {},
   "outputs": [
    {
     "name": "stdout",
     "output_type": "stream",
     "text": [
      "Weighted by age and race: Clinton: 0.5245159272021906, Trump: 0.47548407279780935\n"
     ]
    }
   ],
   "source": [
    "# get weighted by age and race\n",
    "type1 = 'age'\n",
    "type2 = 'race'\n",
    "vote = getJointWeighting(type1, type2)\n",
    "print(\"Weighted by age and race: Clinton: {}, Trump: {}\".format(vote[1], vote[0]))\n",
    "#dfdemographic['Electoral_Proportion'][(dfdemographic['Demographic_1'] == 'Hispanic') & (dfdemographic['Demographic_2'] == '45-64')]"
   ]
  },
  {
   "cell_type": "code",
   "execution_count": 99,
   "metadata": {},
   "outputs": [
    {
     "name": "stdout",
     "output_type": "stream",
     "text": [
      "Weighted by age and race: Clinton: 0.5029213060686997, Trump: 0.4970786939312994\n"
     ]
    }
   ],
   "source": [
    "# get weighted by party and gender\n",
    "type1 = 'party'\n",
    "type2 = 'gender'\n",
    "vote = getJointWeighting(type1, type2)\n",
    "print(\"Weighted by party and gender: Clinton: {}, Trump: {}\".format(vote[1], vote[0]))"
   ]
  },
  {
   "cell_type": "code",
   "execution_count": 98,
   "metadata": {},
   "outputs": [
    {
     "name": "stdout",
     "output_type": "stream",
     "text": [
      "Weighted by age and race: Clinton: 0.4979923466251236, Trump: 0.5020076533748767\n"
     ]
    }
   ],
   "source": [
    "# get weighted by party and age\n",
    "type1 = 'party'\n",
    "type2 = 'age'\n",
    "vote = getJointWeighting(type1, type2)\n",
    "print(\"Weighted by party and age: Clinton: {}, Trump: {}\".format(vote[1], vote[0]))"
   ]
  },
  {
   "cell_type": "code",
   "execution_count": 101,
   "metadata": {},
   "outputs": [
    {
     "name": "stdout",
     "output_type": "stream",
     "text": [
      "Weighted by party and race: Clinton: 0.5011444670666649, Trump: 0.4988555329333347\n"
     ]
    }
   ],
   "source": [
    "# get weighted by party and race\n",
    "type1 = 'party'\n",
    "type2 = 'race'\n",
    "vote = getJointWeighting(type1, type2)\n",
    "print(\"Weighted by party and race: Clinton: {}, Trump: {}\".format(vote[1], vote[0]))"
   ]
  },
  {
   "cell_type": "code",
   "execution_count": 103,
   "metadata": {},
   "outputs": [
    {
     "name": "stdout",
     "output_type": "stream",
     "text": [
      "Weighted by party and education: Clinton: 0.4935008813708104, Trump: 0.5064991186291888\n"
     ]
    }
   ],
   "source": [
    "# get weighted by party and education\n",
    "type1 = 'party'\n",
    "type2 = 'education'\n",
    "vote = getJointWeighting(type1, type2)\n",
    "print(\"Weighted by party and education: Clinton: {}, Trump: {}\".format(vote[1], vote[0]))"
   ]
  },
  {
   "cell_type": "code",
   "execution_count": 102,
   "metadata": {},
   "outputs": [
    {
     "name": "stdout",
     "output_type": "stream",
     "text": [
      "Weighted by gender and age: Clinton: 0.5332889700974133, Trump: 0.46671102990258795\n"
     ]
    }
   ],
   "source": [
    "# get weighted by gender and age\n",
    "type1 = 'gender'\n",
    "type2 = 'age'\n",
    "vote = getJointWeighting(type1, type2)\n",
    "print(\"Weighted by gender and age: Clinton: {}, Trump: {}\".format(vote[1], vote[0]))"
   ]
  },
  {
   "cell_type": "code",
   "execution_count": 104,
   "metadata": {},
   "outputs": [
    {
     "name": "stdout",
     "output_type": "stream",
     "text": [
      "Weighted by gender and race: Clinton: 0.5348155487959094, Trump: 0.4651844512040904\n"
     ]
    }
   ],
   "source": [
    "# get weighted by gender and race\n",
    "type1 = 'gender'\n",
    "type2 = 'race'\n",
    "vote = getJointWeighting(type1, type2)\n",
    "print(\"Weighted by gender and race: Clinton: {}, Trump: {}\".format(vote[1], vote[0]))"
   ]
  },
  {
   "cell_type": "code",
   "execution_count": 105,
   "metadata": {},
   "outputs": [
    {
     "name": "stdout",
     "output_type": "stream",
     "text": [
      "Weighted by gender and education: Clinton: 0.5475782479595503, Trump: 0.45242175204044976\n"
     ]
    }
   ],
   "source": [
    "# get weighted by gender and education\n",
    "type1 = 'gender'\n",
    "type2 = 'education'\n",
    "vote = getJointWeighting(type1, type2)\n",
    "print(\"Weighted by gender and education: Clinton: {}, Trump: {}\".format(vote[1], vote[0]))"
   ]
  },
  {
   "cell_type": "code",
   "execution_count": 106,
   "metadata": {},
   "outputs": [
    {
     "name": "stdout",
     "output_type": "stream",
     "text": [
      "Weighted by age and race: Clinton: 0.5245159272021906, Trump: 0.47548407279780935\n"
     ]
    }
   ],
   "source": [
    "# get weighted by age and race\n",
    "type1 = 'age'\n",
    "type2 = 'race'\n",
    "vote = getJointWeighting(type1, type2)\n",
    "print(\"Weighted by age and race: Clinton: {}, Trump: {}\".format(vote[1], vote[0]))"
   ]
  },
  {
   "cell_type": "code",
   "execution_count": 107,
   "metadata": {},
   "outputs": [
    {
     "name": "stdout",
     "output_type": "stream",
     "text": [
      "Weighted by age and education: Clinton: 0.5254829927664427, Trump: 0.47451700723355683\n"
     ]
    }
   ],
   "source": [
    "# get weighted by age and education\n",
    "type1 = 'age'\n",
    "type2 = 'education'\n",
    "vote = getJointWeighting(type1, type2)\n",
    "print(\"Weighted by age and education: Clinton: {}, Trump: {}\".format(vote[1], vote[0]))"
   ]
  },
  {
   "cell_type": "code",
   "execution_count": 108,
   "metadata": {},
   "outputs": [
    {
     "name": "stdout",
     "output_type": "stream",
     "text": [
      "Weighted by race and education: Clinton: 0.5142722847612909, Trump: 0.4857277152387097\n"
     ]
    }
   ],
   "source": [
    "# get weighted by race and education\n",
    "type1 = 'race'\n",
    "type2 = 'education'\n",
    "vote = getJointWeighting(type1, type2)\n",
    "print(\"Weighted by race and education: Clinton: {}, Trump: {}\".format(vote[1], vote[0]))"
   ]
  },
  {
   "cell_type": "code",
   "execution_count": 90,
   "metadata": {},
   "outputs": [
    {
     "name": "stdout",
     "output_type": "stream",
     "text": [
      "    Demographic_1 Demographic_2\n",
      "0        Democrat           NaN\n",
      "1      Republican           NaN\n",
      "2     Independent           NaN\n",
      "3            Male           NaN\n",
      "4          Female           NaN\n",
      "5           18-29           NaN\n",
      "6           30-44           NaN\n",
      "7           45-64           NaN\n",
      "8             65+           NaN\n",
      "9           White           NaN\n",
      "10          Black           NaN\n",
      "11       Hispanic           NaN\n",
      "12          Other           NaN\n",
      "13    High School           NaN\n",
      "14   Some College           NaN\n",
      "15        College           NaN\n",
      "16       Democrat          Male\n",
      "17       Democrat        Female\n",
      "18     Republican          Male\n",
      "19     Republican        Female\n",
      "20    Independent          Male\n",
      "21    Independent        Female\n",
      "22       Democrat         18-29\n",
      "23       Democrat         30-44\n",
      "24       Democrat         45-64\n",
      "25       Democrat           65+\n",
      "26     Republican         18-29\n",
      "27     Republican         30-44\n",
      "28     Republican         45-64\n",
      "29     Republican           65+\n",
      "30    Independent         18-29\n",
      "31    Independent         30-44\n",
      "32    Independent         45-64\n",
      "33    Independent           65+\n",
      "34       Democrat         White\n",
      "35       Democrat         Black\n",
      "36       Democrat      Hispanic\n",
      "37       Democrat         Other\n",
      "38     Republican         White\n",
      "39     Republican         Black\n",
      "40     Republican      Hispanic\n",
      "41     Republican         Other\n",
      "42    Independent         White\n",
      "43    Independent         Black\n",
      "44    Independent      Hispanic\n",
      "45    Independent         Other\n",
      "46       Democrat   High School\n",
      "47       Democrat  Some College\n",
      "48       Democrat       College\n",
      "49     Republican   High School\n",
      "50     Republican  Some College\n",
      "51     Republican       College\n",
      "52    Independent   High School\n",
      "53    Independent  Some College\n",
      "54    Independent       College\n",
      "55           Male         18-29\n",
      "56           Male         30-44\n",
      "57           Male         45-64\n",
      "58           Male           65+\n",
      "59         Female         18-29\n",
      "60         Female         30-44\n",
      "61         Female         45-64\n",
      "62         Female           65+\n",
      "63           Male         White\n",
      "64           Male         Black\n",
      "65           Male      Hispanic\n",
      "66           Male         Other\n",
      "67         Female         White\n",
      "68         Female         Black\n",
      "69         Female      Hispanic\n",
      "70         Female         Other\n",
      "71           Male   High School\n",
      "72           Male  Some College\n",
      "73           Male       College\n",
      "74         Female   High School\n",
      "75         Female  Some College\n",
      "76         Female       College\n",
      "77          18-29         White\n",
      "78          18-29         Black\n",
      "79          18-29      Hispanic\n",
      "80          18-29         Other\n",
      "81          30-44         White\n",
      "82          30-44         Black\n",
      "83          30-44      Hispanic\n",
      "84          30-44         Other\n",
      "85          45-64         White\n",
      "86          45-64         Black\n",
      "87          45-64      Hispanic\n",
      "88          45-64         Other\n",
      "89            65+         White\n",
      "90            65+         Black\n",
      "91            65+      Hispanic\n",
      "92            65+         Other\n",
      "93          18-29   High School\n",
      "94          18-29  Some College\n",
      "95          18-29       College\n",
      "96          30-44   High School\n",
      "97          30-44  Some College\n",
      "98          30-44       College\n",
      "99          45-64   High School\n",
      "100         45-64  Some College\n",
      "101         45-64       College\n",
      "102           65+   High School\n",
      "103           65+  Some College\n",
      "104           65+       College\n",
      "105         White   High School\n",
      "106         White  Some College\n",
      "107         White       College\n",
      "108         Black   High School\n",
      "109         Black  Some College\n",
      "110         Black       College\n",
      "111      Hispanic   High School\n",
      "112      Hispanic  Some College\n",
      "113      Hispanic       College\n",
      "114         Other   High School\n",
      "115         Other  Some College\n",
      "116         Other       College\n"
     ]
    }
   ],
   "source": [
    "with pd.option_context('display.max_rows', None,):\n",
    "   print(dfdemographic[['Demographic_1','Demographic_2']])"
   ]
  },
  {
   "cell_type": "code",
   "execution_count": 26,
   "metadata": {
    "scrolled": false
   },
   "outputs": [
    {
     "data": {
      "text/plain": [
       "array(['Democrat', 'Republican', 'Independent'], dtype=object)"
      ]
     },
     "execution_count": 26,
     "metadata": {},
     "output_type": "execute_result"
    }
   ],
   "source": [
    "dfdemographic[dfdemographic['Demographic_Type_1']=='party']['Demographic_1'].unique()"
   ]
  },
  {
   "cell_type": "code",
   "execution_count": 27,
   "metadata": {},
   "outputs": [
    {
     "data": {
      "text/html": [
       "<div>\n",
       "<style scoped>\n",
       "    .dataframe tbody tr th:only-of-type {\n",
       "        vertical-align: middle;\n",
       "    }\n",
       "\n",
       "    .dataframe tbody tr th {\n",
       "        vertical-align: top;\n",
       "    }\n",
       "\n",
       "    .dataframe thead th {\n",
       "        text-align: right;\n",
       "    }\n",
       "</style>\n",
       "<table border=\"1\" class=\"dataframe\">\n",
       "  <thead>\n",
       "    <tr style=\"text-align: right;\">\n",
       "      <th></th>\n",
       "      <th>candidate</th>\n",
       "      <th>age</th>\n",
       "      <th>gender</th>\n",
       "      <th>party</th>\n",
       "      <th>race</th>\n",
       "      <th>education</th>\n",
       "    </tr>\n",
       "  </thead>\n",
       "  <tbody>\n",
       "    <tr>\n",
       "      <th>1</th>\n",
       "      <td>Hillary Clinton</td>\n",
       "      <td>45-64</td>\n",
       "      <td>Male</td>\n",
       "      <td>Republican</td>\n",
       "      <td>Hispanic</td>\n",
       "      <td>College</td>\n",
       "    </tr>\n",
       "    <tr>\n",
       "      <th>2</th>\n",
       "      <td>Hillary Clinton</td>\n",
       "      <td>30-44</td>\n",
       "      <td>Male</td>\n",
       "      <td>Independent</td>\n",
       "      <td>Hispanic</td>\n",
       "      <td>College</td>\n",
       "    </tr>\n",
       "    <tr>\n",
       "      <th>3</th>\n",
       "      <td>Hillary Clinton</td>\n",
       "      <td>65+</td>\n",
       "      <td>Female</td>\n",
       "      <td>Democrat</td>\n",
       "      <td>White</td>\n",
       "      <td>College</td>\n",
       "    </tr>\n",
       "    <tr>\n",
       "      <th>4</th>\n",
       "      <td>Donald Trump</td>\n",
       "      <td>65+</td>\n",
       "      <td>Female</td>\n",
       "      <td>Republican</td>\n",
       "      <td>White</td>\n",
       "      <td>High School</td>\n",
       "    </tr>\n",
       "    <tr>\n",
       "      <th>5</th>\n",
       "      <td>Hillary Clinton</td>\n",
       "      <td>18-29</td>\n",
       "      <td>Male</td>\n",
       "      <td>Independent</td>\n",
       "      <td>Black</td>\n",
       "      <td>Some College</td>\n",
       "    </tr>\n",
       "  </tbody>\n",
       "</table>\n",
       "</div>"
      ],
      "text/plain": [
       "         candidate    age  gender        party      race     education\n",
       "1  Hillary Clinton  45-64    Male   Republican  Hispanic       College\n",
       "2  Hillary Clinton  30-44    Male  Independent  Hispanic       College\n",
       "3  Hillary Clinton    65+  Female     Democrat     White       College\n",
       "4     Donald Trump    65+  Female   Republican     White   High School\n",
       "5  Hillary Clinton  18-29    Male  Independent     Black  Some College"
      ]
     },
     "execution_count": 27,
     "metadata": {},
     "output_type": "execute_result"
    }
   ],
   "source": [
    "only_hillary_trump.head()"
   ]
  },
  {
   "cell_type": "code",
   "execution_count": 28,
   "metadata": {
    "scrolled": true
   },
   "outputs": [
    {
     "data": {
      "text/html": [
       "<div>\n",
       "<style scoped>\n",
       "    .dataframe tbody tr th:only-of-type {\n",
       "        vertical-align: middle;\n",
       "    }\n",
       "\n",
       "    .dataframe tbody tr th {\n",
       "        vertical-align: top;\n",
       "    }\n",
       "\n",
       "    .dataframe thead th {\n",
       "        text-align: right;\n",
       "    }\n",
       "</style>\n",
       "<table border=\"1\" class=\"dataframe\">\n",
       "  <thead>\n",
       "    <tr style=\"text-align: right;\">\n",
       "      <th></th>\n",
       "      <th>candidate</th>\n",
       "      <th>age</th>\n",
       "      <th>gender</th>\n",
       "      <th>party</th>\n",
       "      <th>race</th>\n",
       "      <th>education</th>\n",
       "    </tr>\n",
       "  </thead>\n",
       "  <tbody>\n",
       "    <tr>\n",
       "      <th>1</th>\n",
       "      <td>Hillary Clinton</td>\n",
       "      <td>45-64</td>\n",
       "      <td>Male</td>\n",
       "      <td>Republican</td>\n",
       "      <td>Hispanic</td>\n",
       "      <td>College</td>\n",
       "    </tr>\n",
       "    <tr>\n",
       "      <th>2</th>\n",
       "      <td>Hillary Clinton</td>\n",
       "      <td>30-44</td>\n",
       "      <td>Male</td>\n",
       "      <td>Independent</td>\n",
       "      <td>Hispanic</td>\n",
       "      <td>College</td>\n",
       "    </tr>\n",
       "    <tr>\n",
       "      <th>14</th>\n",
       "      <td>Hillary Clinton</td>\n",
       "      <td>30-44</td>\n",
       "      <td>Male</td>\n",
       "      <td>Independent</td>\n",
       "      <td>Hispanic</td>\n",
       "      <td>College</td>\n",
       "    </tr>\n",
       "    <tr>\n",
       "      <th>39</th>\n",
       "      <td>Hillary Clinton</td>\n",
       "      <td>18-29</td>\n",
       "      <td>Male</td>\n",
       "      <td>Democrat</td>\n",
       "      <td>Hispanic</td>\n",
       "      <td>College</td>\n",
       "    </tr>\n",
       "    <tr>\n",
       "      <th>96</th>\n",
       "      <td>Hillary Clinton</td>\n",
       "      <td>30-44</td>\n",
       "      <td>Male</td>\n",
       "      <td>Democrat</td>\n",
       "      <td>Hispanic</td>\n",
       "      <td>College</td>\n",
       "    </tr>\n",
       "    <tr>\n",
       "      <th>97</th>\n",
       "      <td>Hillary Clinton</td>\n",
       "      <td>65+</td>\n",
       "      <td>Male</td>\n",
       "      <td>Democrat</td>\n",
       "      <td>Hispanic</td>\n",
       "      <td>College</td>\n",
       "    </tr>\n",
       "    <tr>\n",
       "      <th>99</th>\n",
       "      <td>Hillary Clinton</td>\n",
       "      <td>65+</td>\n",
       "      <td>Male</td>\n",
       "      <td>Democrat</td>\n",
       "      <td>Hispanic</td>\n",
       "      <td>College</td>\n",
       "    </tr>\n",
       "    <tr>\n",
       "      <th>118</th>\n",
       "      <td>Donald Trump</td>\n",
       "      <td>18-29</td>\n",
       "      <td>Female</td>\n",
       "      <td>Republican</td>\n",
       "      <td>Hispanic</td>\n",
       "      <td>College</td>\n",
       "    </tr>\n",
       "    <tr>\n",
       "      <th>221</th>\n",
       "      <td>Hillary Clinton</td>\n",
       "      <td>45-64</td>\n",
       "      <td>Male</td>\n",
       "      <td>Democrat</td>\n",
       "      <td>Hispanic</td>\n",
       "      <td>College</td>\n",
       "    </tr>\n",
       "    <tr>\n",
       "      <th>226</th>\n",
       "      <td>Hillary Clinton</td>\n",
       "      <td>30-44</td>\n",
       "      <td>Female</td>\n",
       "      <td>Democrat</td>\n",
       "      <td>Hispanic</td>\n",
       "      <td>College</td>\n",
       "    </tr>\n",
       "    <tr>\n",
       "      <th>302</th>\n",
       "      <td>Hillary Clinton</td>\n",
       "      <td>65+</td>\n",
       "      <td>Female</td>\n",
       "      <td>Democrat</td>\n",
       "      <td>Hispanic</td>\n",
       "      <td>College</td>\n",
       "    </tr>\n",
       "    <tr>\n",
       "      <th>365</th>\n",
       "      <td>Hillary Clinton</td>\n",
       "      <td>65+</td>\n",
       "      <td>Female</td>\n",
       "      <td>Democrat</td>\n",
       "      <td>Hispanic</td>\n",
       "      <td>College</td>\n",
       "    </tr>\n",
       "    <tr>\n",
       "      <th>366</th>\n",
       "      <td>Donald Trump</td>\n",
       "      <td>65+</td>\n",
       "      <td>Male</td>\n",
       "      <td>Republican</td>\n",
       "      <td>Hispanic</td>\n",
       "      <td>College</td>\n",
       "    </tr>\n",
       "    <tr>\n",
       "      <th>367</th>\n",
       "      <td>Donald Trump</td>\n",
       "      <td>45-64</td>\n",
       "      <td>Male</td>\n",
       "      <td>Republican</td>\n",
       "      <td>Hispanic</td>\n",
       "      <td>College</td>\n",
       "    </tr>\n",
       "    <tr>\n",
       "      <th>371</th>\n",
       "      <td>Donald Trump</td>\n",
       "      <td>45-64</td>\n",
       "      <td>Female</td>\n",
       "      <td>Republican</td>\n",
       "      <td>Hispanic</td>\n",
       "      <td>College</td>\n",
       "    </tr>\n",
       "    <tr>\n",
       "      <th>373</th>\n",
       "      <td>Donald Trump</td>\n",
       "      <td>65+</td>\n",
       "      <td>Male</td>\n",
       "      <td>Republican</td>\n",
       "      <td>Hispanic</td>\n",
       "      <td>College</td>\n",
       "    </tr>\n",
       "    <tr>\n",
       "      <th>378</th>\n",
       "      <td>Donald Trump</td>\n",
       "      <td>45-64</td>\n",
       "      <td>Male</td>\n",
       "      <td>Democrat</td>\n",
       "      <td>Hispanic</td>\n",
       "      <td>College</td>\n",
       "    </tr>\n",
       "    <tr>\n",
       "      <th>380</th>\n",
       "      <td>Hillary Clinton</td>\n",
       "      <td>45-64</td>\n",
       "      <td>Male</td>\n",
       "      <td>Democrat</td>\n",
       "      <td>Hispanic</td>\n",
       "      <td>College</td>\n",
       "    </tr>\n",
       "    <tr>\n",
       "      <th>381</th>\n",
       "      <td>Hillary Clinton</td>\n",
       "      <td>45-64</td>\n",
       "      <td>Female</td>\n",
       "      <td>Independent</td>\n",
       "      <td>Hispanic</td>\n",
       "      <td>College</td>\n",
       "    </tr>\n",
       "    <tr>\n",
       "      <th>382</th>\n",
       "      <td>Donald Trump</td>\n",
       "      <td>18-29</td>\n",
       "      <td>Female</td>\n",
       "      <td>Democrat</td>\n",
       "      <td>Hispanic</td>\n",
       "      <td>College</td>\n",
       "    </tr>\n",
       "    <tr>\n",
       "      <th>388</th>\n",
       "      <td>Hillary Clinton</td>\n",
       "      <td>65+</td>\n",
       "      <td>Female</td>\n",
       "      <td>Independent</td>\n",
       "      <td>Hispanic</td>\n",
       "      <td>College</td>\n",
       "    </tr>\n",
       "    <tr>\n",
       "      <th>413</th>\n",
       "      <td>Hillary Clinton</td>\n",
       "      <td>45-64</td>\n",
       "      <td>Female</td>\n",
       "      <td>Independent</td>\n",
       "      <td>Hispanic</td>\n",
       "      <td>College</td>\n",
       "    </tr>\n",
       "    <tr>\n",
       "      <th>419</th>\n",
       "      <td>Hillary Clinton</td>\n",
       "      <td>30-44</td>\n",
       "      <td>Male</td>\n",
       "      <td>Democrat</td>\n",
       "      <td>Hispanic</td>\n",
       "      <td>College</td>\n",
       "    </tr>\n",
       "    <tr>\n",
       "      <th>423</th>\n",
       "      <td>Hillary Clinton</td>\n",
       "      <td>65+</td>\n",
       "      <td>Male</td>\n",
       "      <td>Democrat</td>\n",
       "      <td>Hispanic</td>\n",
       "      <td>College</td>\n",
       "    </tr>\n",
       "    <tr>\n",
       "      <th>450</th>\n",
       "      <td>Hillary Clinton</td>\n",
       "      <td>18-29</td>\n",
       "      <td>Female</td>\n",
       "      <td>Democrat</td>\n",
       "      <td>Hispanic</td>\n",
       "      <td>College</td>\n",
       "    </tr>\n",
       "    <tr>\n",
       "      <th>457</th>\n",
       "      <td>Hillary Clinton</td>\n",
       "      <td>45-64</td>\n",
       "      <td>Male</td>\n",
       "      <td>Democrat</td>\n",
       "      <td>Hispanic</td>\n",
       "      <td>College</td>\n",
       "    </tr>\n",
       "    <tr>\n",
       "      <th>461</th>\n",
       "      <td>Hillary Clinton</td>\n",
       "      <td>18-29</td>\n",
       "      <td>Male</td>\n",
       "      <td>Democrat</td>\n",
       "      <td>Hispanic</td>\n",
       "      <td>College</td>\n",
       "    </tr>\n",
       "    <tr>\n",
       "      <th>489</th>\n",
       "      <td>Hillary Clinton</td>\n",
       "      <td>30-44</td>\n",
       "      <td>Male</td>\n",
       "      <td>Independent</td>\n",
       "      <td>Hispanic</td>\n",
       "      <td>College</td>\n",
       "    </tr>\n",
       "    <tr>\n",
       "      <th>491</th>\n",
       "      <td>Hillary Clinton</td>\n",
       "      <td>45-64</td>\n",
       "      <td>Female</td>\n",
       "      <td>Refused</td>\n",
       "      <td>Hispanic</td>\n",
       "      <td>College</td>\n",
       "    </tr>\n",
       "    <tr>\n",
       "      <th>495</th>\n",
       "      <td>Hillary Clinton</td>\n",
       "      <td>45-64</td>\n",
       "      <td>Female</td>\n",
       "      <td>Democrat</td>\n",
       "      <td>Hispanic</td>\n",
       "      <td>College</td>\n",
       "    </tr>\n",
       "    <tr>\n",
       "      <th>524</th>\n",
       "      <td>Hillary Clinton</td>\n",
       "      <td>30-44</td>\n",
       "      <td>Male</td>\n",
       "      <td>Democrat</td>\n",
       "      <td>Hispanic</td>\n",
       "      <td>College</td>\n",
       "    </tr>\n",
       "    <tr>\n",
       "      <th>530</th>\n",
       "      <td>Hillary Clinton</td>\n",
       "      <td>18-29</td>\n",
       "      <td>Female</td>\n",
       "      <td>Democrat</td>\n",
       "      <td>Hispanic</td>\n",
       "      <td>College</td>\n",
       "    </tr>\n",
       "    <tr>\n",
       "      <th>531</th>\n",
       "      <td>Hillary Clinton</td>\n",
       "      <td>45-64</td>\n",
       "      <td>Male</td>\n",
       "      <td>Democrat</td>\n",
       "      <td>Hispanic</td>\n",
       "      <td>College</td>\n",
       "    </tr>\n",
       "    <tr>\n",
       "      <th>574</th>\n",
       "      <td>Hillary Clinton</td>\n",
       "      <td>18-29</td>\n",
       "      <td>Male</td>\n",
       "      <td>Democrat</td>\n",
       "      <td>Hispanic</td>\n",
       "      <td>College</td>\n",
       "    </tr>\n",
       "    <tr>\n",
       "      <th>576</th>\n",
       "      <td>Hillary Clinton</td>\n",
       "      <td>18-29</td>\n",
       "      <td>Male</td>\n",
       "      <td>Independent</td>\n",
       "      <td>Hispanic</td>\n",
       "      <td>College</td>\n",
       "    </tr>\n",
       "    <tr>\n",
       "      <th>596</th>\n",
       "      <td>Hillary Clinton</td>\n",
       "      <td>18-29</td>\n",
       "      <td>Female</td>\n",
       "      <td>Democrat</td>\n",
       "      <td>Hispanic</td>\n",
       "      <td>College</td>\n",
       "    </tr>\n",
       "    <tr>\n",
       "      <th>608</th>\n",
       "      <td>Hillary Clinton</td>\n",
       "      <td>45-64</td>\n",
       "      <td>Male</td>\n",
       "      <td>Democrat</td>\n",
       "      <td>Hispanic</td>\n",
       "      <td>College</td>\n",
       "    </tr>\n",
       "    <tr>\n",
       "      <th>618</th>\n",
       "      <td>Hillary Clinton</td>\n",
       "      <td>45-64</td>\n",
       "      <td>Male</td>\n",
       "      <td>Independent</td>\n",
       "      <td>Hispanic</td>\n",
       "      <td>College</td>\n",
       "    </tr>\n",
       "    <tr>\n",
       "      <th>630</th>\n",
       "      <td>Hillary Clinton</td>\n",
       "      <td>30-44</td>\n",
       "      <td>Female</td>\n",
       "      <td>Democrat</td>\n",
       "      <td>Hispanic</td>\n",
       "      <td>College</td>\n",
       "    </tr>\n",
       "    <tr>\n",
       "      <th>637</th>\n",
       "      <td>Donald Trump</td>\n",
       "      <td>45-64</td>\n",
       "      <td>Male</td>\n",
       "      <td>Independent</td>\n",
       "      <td>Hispanic</td>\n",
       "      <td>College</td>\n",
       "    </tr>\n",
       "    <tr>\n",
       "      <th>665</th>\n",
       "      <td>Donald Trump</td>\n",
       "      <td>45-64</td>\n",
       "      <td>Male</td>\n",
       "      <td>Republican</td>\n",
       "      <td>Hispanic</td>\n",
       "      <td>College</td>\n",
       "    </tr>\n",
       "    <tr>\n",
       "      <th>676</th>\n",
       "      <td>Hillary Clinton</td>\n",
       "      <td>18-29</td>\n",
       "      <td>Female</td>\n",
       "      <td>Democrat</td>\n",
       "      <td>Hispanic</td>\n",
       "      <td>College</td>\n",
       "    </tr>\n",
       "    <tr>\n",
       "      <th>679</th>\n",
       "      <td>Hillary Clinton</td>\n",
       "      <td>18-29</td>\n",
       "      <td>Male</td>\n",
       "      <td>Democrat</td>\n",
       "      <td>Hispanic</td>\n",
       "      <td>College</td>\n",
       "    </tr>\n",
       "    <tr>\n",
       "      <th>683</th>\n",
       "      <td>Donald Trump</td>\n",
       "      <td>30-44</td>\n",
       "      <td>Male</td>\n",
       "      <td>Democrat</td>\n",
       "      <td>Hispanic</td>\n",
       "      <td>College</td>\n",
       "    </tr>\n",
       "    <tr>\n",
       "      <th>688</th>\n",
       "      <td>Hillary Clinton</td>\n",
       "      <td>30-44</td>\n",
       "      <td>Female</td>\n",
       "      <td>Democrat</td>\n",
       "      <td>Hispanic</td>\n",
       "      <td>College</td>\n",
       "    </tr>\n",
       "    <tr>\n",
       "      <th>690</th>\n",
       "      <td>Hillary Clinton</td>\n",
       "      <td>45-64</td>\n",
       "      <td>Male</td>\n",
       "      <td>Democrat</td>\n",
       "      <td>Hispanic</td>\n",
       "      <td>College</td>\n",
       "    </tr>\n",
       "    <tr>\n",
       "      <th>717</th>\n",
       "      <td>Hillary Clinton</td>\n",
       "      <td>18-29</td>\n",
       "      <td>Female</td>\n",
       "      <td>Democrat</td>\n",
       "      <td>Hispanic</td>\n",
       "      <td>College</td>\n",
       "    </tr>\n",
       "    <tr>\n",
       "      <th>724</th>\n",
       "      <td>Hillary Clinton</td>\n",
       "      <td>65+</td>\n",
       "      <td>Male</td>\n",
       "      <td>Democrat</td>\n",
       "      <td>Hispanic</td>\n",
       "      <td>College</td>\n",
       "    </tr>\n",
       "    <tr>\n",
       "      <th>767</th>\n",
       "      <td>Hillary Clinton</td>\n",
       "      <td>45-64</td>\n",
       "      <td>Male</td>\n",
       "      <td>Democrat</td>\n",
       "      <td>Hispanic</td>\n",
       "      <td>College</td>\n",
       "    </tr>\n",
       "    <tr>\n",
       "      <th>776</th>\n",
       "      <td>Hillary Clinton</td>\n",
       "      <td>65+</td>\n",
       "      <td>Male</td>\n",
       "      <td>Democrat</td>\n",
       "      <td>Hispanic</td>\n",
       "      <td>College</td>\n",
       "    </tr>\n",
       "    <tr>\n",
       "      <th>779</th>\n",
       "      <td>Hillary Clinton</td>\n",
       "      <td>45-64</td>\n",
       "      <td>Male</td>\n",
       "      <td>Republican</td>\n",
       "      <td>Hispanic</td>\n",
       "      <td>College</td>\n",
       "    </tr>\n",
       "    <tr>\n",
       "      <th>787</th>\n",
       "      <td>Hillary Clinton</td>\n",
       "      <td>18-29</td>\n",
       "      <td>Male</td>\n",
       "      <td>Democrat</td>\n",
       "      <td>Hispanic</td>\n",
       "      <td>College</td>\n",
       "    </tr>\n",
       "    <tr>\n",
       "      <th>794</th>\n",
       "      <td>Hillary Clinton</td>\n",
       "      <td>30-44</td>\n",
       "      <td>Female</td>\n",
       "      <td>Democrat</td>\n",
       "      <td>Hispanic</td>\n",
       "      <td>College</td>\n",
       "    </tr>\n",
       "    <tr>\n",
       "      <th>796</th>\n",
       "      <td>Donald Trump</td>\n",
       "      <td>30-44</td>\n",
       "      <td>Male</td>\n",
       "      <td>Republican</td>\n",
       "      <td>Hispanic</td>\n",
       "      <td>College</td>\n",
       "    </tr>\n",
       "    <tr>\n",
       "      <th>825</th>\n",
       "      <td>Hillary Clinton</td>\n",
       "      <td>65+</td>\n",
       "      <td>Male</td>\n",
       "      <td>Democrat</td>\n",
       "      <td>Hispanic</td>\n",
       "      <td>College</td>\n",
       "    </tr>\n",
       "    <tr>\n",
       "      <th>834</th>\n",
       "      <td>Donald Trump</td>\n",
       "      <td>45-64</td>\n",
       "      <td>Male</td>\n",
       "      <td>Independent</td>\n",
       "      <td>Hispanic</td>\n",
       "      <td>College</td>\n",
       "    </tr>\n",
       "    <tr>\n",
       "      <th>855</th>\n",
       "      <td>Donald Trump</td>\n",
       "      <td>18-29</td>\n",
       "      <td>Female</td>\n",
       "      <td>Republican</td>\n",
       "      <td>Hispanic</td>\n",
       "      <td>College</td>\n",
       "    </tr>\n",
       "  </tbody>\n",
       "</table>\n",
       "</div>"
      ],
      "text/plain": [
       "           candidate    age  gender        party      race education\n",
       "1    Hillary Clinton  45-64    Male   Republican  Hispanic   College\n",
       "2    Hillary Clinton  30-44    Male  Independent  Hispanic   College\n",
       "14   Hillary Clinton  30-44    Male  Independent  Hispanic   College\n",
       "39   Hillary Clinton  18-29    Male     Democrat  Hispanic   College\n",
       "96   Hillary Clinton  30-44    Male     Democrat  Hispanic   College\n",
       "97   Hillary Clinton    65+    Male     Democrat  Hispanic   College\n",
       "99   Hillary Clinton    65+    Male     Democrat  Hispanic   College\n",
       "118     Donald Trump  18-29  Female   Republican  Hispanic   College\n",
       "221  Hillary Clinton  45-64    Male     Democrat  Hispanic   College\n",
       "226  Hillary Clinton  30-44  Female     Democrat  Hispanic   College\n",
       "302  Hillary Clinton    65+  Female     Democrat  Hispanic   College\n",
       "365  Hillary Clinton    65+  Female     Democrat  Hispanic   College\n",
       "366     Donald Trump    65+    Male   Republican  Hispanic   College\n",
       "367     Donald Trump  45-64    Male   Republican  Hispanic   College\n",
       "371     Donald Trump  45-64  Female   Republican  Hispanic   College\n",
       "373     Donald Trump    65+    Male   Republican  Hispanic   College\n",
       "378     Donald Trump  45-64    Male     Democrat  Hispanic   College\n",
       "380  Hillary Clinton  45-64    Male     Democrat  Hispanic   College\n",
       "381  Hillary Clinton  45-64  Female  Independent  Hispanic   College\n",
       "382     Donald Trump  18-29  Female     Democrat  Hispanic   College\n",
       "388  Hillary Clinton    65+  Female  Independent  Hispanic   College\n",
       "413  Hillary Clinton  45-64  Female  Independent  Hispanic   College\n",
       "419  Hillary Clinton  30-44    Male     Democrat  Hispanic   College\n",
       "423  Hillary Clinton    65+    Male     Democrat  Hispanic   College\n",
       "450  Hillary Clinton  18-29  Female     Democrat  Hispanic   College\n",
       "457  Hillary Clinton  45-64    Male     Democrat  Hispanic   College\n",
       "461  Hillary Clinton  18-29    Male     Democrat  Hispanic   College\n",
       "489  Hillary Clinton  30-44    Male  Independent  Hispanic   College\n",
       "491  Hillary Clinton  45-64  Female      Refused  Hispanic   College\n",
       "495  Hillary Clinton  45-64  Female     Democrat  Hispanic   College\n",
       "524  Hillary Clinton  30-44    Male     Democrat  Hispanic   College\n",
       "530  Hillary Clinton  18-29  Female     Democrat  Hispanic   College\n",
       "531  Hillary Clinton  45-64    Male     Democrat  Hispanic   College\n",
       "574  Hillary Clinton  18-29    Male     Democrat  Hispanic   College\n",
       "576  Hillary Clinton  18-29    Male  Independent  Hispanic   College\n",
       "596  Hillary Clinton  18-29  Female     Democrat  Hispanic   College\n",
       "608  Hillary Clinton  45-64    Male     Democrat  Hispanic   College\n",
       "618  Hillary Clinton  45-64    Male  Independent  Hispanic   College\n",
       "630  Hillary Clinton  30-44  Female     Democrat  Hispanic   College\n",
       "637     Donald Trump  45-64    Male  Independent  Hispanic   College\n",
       "665     Donald Trump  45-64    Male   Republican  Hispanic   College\n",
       "676  Hillary Clinton  18-29  Female     Democrat  Hispanic   College\n",
       "679  Hillary Clinton  18-29    Male     Democrat  Hispanic   College\n",
       "683     Donald Trump  30-44    Male     Democrat  Hispanic   College\n",
       "688  Hillary Clinton  30-44  Female     Democrat  Hispanic   College\n",
       "690  Hillary Clinton  45-64    Male     Democrat  Hispanic   College\n",
       "717  Hillary Clinton  18-29  Female     Democrat  Hispanic   College\n",
       "724  Hillary Clinton    65+    Male     Democrat  Hispanic   College\n",
       "767  Hillary Clinton  45-64    Male     Democrat  Hispanic   College\n",
       "776  Hillary Clinton    65+    Male     Democrat  Hispanic   College\n",
       "779  Hillary Clinton  45-64    Male   Republican  Hispanic   College\n",
       "787  Hillary Clinton  18-29    Male     Democrat  Hispanic   College\n",
       "794  Hillary Clinton  30-44  Female     Democrat  Hispanic   College\n",
       "796     Donald Trump  30-44    Male   Republican  Hispanic   College\n",
       "825  Hillary Clinton    65+    Male     Democrat  Hispanic   College\n",
       "834     Donald Trump  45-64    Male  Independent  Hispanic   College\n",
       "855     Donald Trump  18-29  Female   Republican  Hispanic   College"
      ]
     },
     "execution_count": 28,
     "metadata": {},
     "output_type": "execute_result"
    }
   ],
   "source": [
    "type1 = 'race'\n",
    "type2 = 'education'\n",
    "m = 'Hispanic'\n",
    "n = 'College'\n",
    "only_hillary_trump[(only_hillary_trump[type1] == m) & (only_hillary_trump[type2] == n)]"
   ]
  },
  {
   "cell_type": "markdown",
   "metadata": {},
   "source": [
    "We can see that the weighted vote varied by the group we selected. Trump reaches the highest proportion of vote when we weight by \"party and age\" and \"party and education\", even bigger than 0.5 which means winning the election. Hillary gets the highest portion when we weight by \"gender and education\". Trump gets high proportion when weighted by party and others, and Hillary gets high proportion when weighted by gender and others."
   ]
  },
  {
   "cell_type": "markdown",
   "metadata": {},
   "source": [
    "### 3) 2-dimensional marginal "
   ]
  },
  {
   "cell_type": "markdown",
   "metadata": {
    "ExecuteTime": {
     "end_time": "2021-09-01T18:25:18.040978Z",
     "start_time": "2021-09-01T18:25:18.016981Z"
    }
   },
   "source": [
    "<font color='blue'>We don't always have access to joint distributions across the population -- for example, it may be hard to estimate from past exit polls (surveys done as people are leaving the polling station) what the joint distribution of education and gender is, for example. However, access to marginal distributions are often available. \n",
    "\n",
    "As discussed in class, one strategy when you don't have access to joint distributions -- only marginals -- is to _multiply_ the marginal distributions. For example, if 50% of your population is Democratic and 50% is a woman, then pretend that 50% times 50% = 25% of your population is a Democratic women. Clearly this technique is not perfect, but it is sometimes a useful heuristic.   \n",
    "\n",
    "For the following pairs of Demographic types, report the weighting results if you use the joint distributions in dfdemographic versus if you approximate the joint distribution using the marginals. Briefly (at most 3 sentences) describe what you observe.\n",
    "\n",
    "(party, gender)\n",
    "\n",
    "(race, gender)"
   ]
  },
  {
   "cell_type": "markdown",
   "metadata": {},
   "source": [
    "As an example output, here's the results for two other pairs of demographics:\n",
    "\n",
    "|    | Demo1   | Demo2     |    Joint |\n",
    "|---:|:--------|:----------|---------:|\n",
    "|  0 | age     | race      | 0.524516 |\n",
    "|  1 | age     | education | 0.525483 |"
   ]
  },
  {
   "cell_type": "code",
   "execution_count": 115,
   "metadata": {},
   "outputs": [],
   "source": [
    "# First let us define a function that take the pair of demographic types as arguments which returns weighted vote\n",
    "def getJointWeightingMargin(type1, type2):\n",
    "    type1_lst = dfdemographic[dfdemographic['Demographic_Type_1']==type1]['Demographic_1'].unique()\n",
    "    type2_lst = dfdemographic[dfdemographic['Demographic_Type_1']==type2]['Demographic_1'].unique()\n",
    "    \n",
    "    trump_lst = []\n",
    "    hillary_lst = []\n",
    "    frac_trump_lst = []\n",
    "    frac_hillary_lst = []\n",
    "    E_proportion = []\n",
    "    group = []\n",
    "    real_frac_trump = []\n",
    "    real_frac_hillary = []\n",
    "        \n",
    "    df = only_hillary_trump[(only_hillary_trump[type1] != 'refused') & (only_hillary_trump[type2] != 'refused')]\n",
    "    for m in type1_lst:\n",
    "        for n in type2_lst:\n",
    "            count_trump = len(df[(df['candidate'] == 'Donald Trump') & (df[type1] == m) & (df[type2] == n)])\n",
    "            count_hillary = len(df[(df['candidate'] == 'Hillary Clinton') & (df[type1] == m) & (df[type2] == n)])\n",
    "            total = count_trump + count_hillary\n",
    "            frac_trump = count_trump/total\n",
    "            frac_hillary = count_hillary/total\n",
    "            e_prop1 = len(df[(df[type1]==m)])/len(df) * len(df[(df[type1]==n)])/len(df)\n",
    "            e_prop2 = float(dfdemographic['Electoral_Proportion'][(dfdemographic['Demographic_1'] == m) & dfdemographic['Demographic_2'].isna()])\n",
    "            e_prop3 = float(dfdemographic['Electoral_Proportion'][(dfdemographic['Demographic_1'] == n) & dfdemographic['Demographic_2'].isna()])\n",
    "            e_prop = e_prop2*e_prop3\n",
    "            trump_lst.append(count_trump)\n",
    "            hillary_lst.append(count_hillary)\n",
    "            frac_trump_lst.append(frac_trump)\n",
    "            frac_hillary_lst.append(frac_hillary)\n",
    "            \n",
    "            E_proportion.append(e_prop)\n",
    "            group.append([m,n])\n",
    "            real_frac_trump.append(frac_trump*e_prop)\n",
    "            real_frac_hillary.append(frac_hillary*e_prop)\n",
    "    trump_weighted = 0\n",
    "    hillary_weighted = 0 \n",
    "    \n",
    "    \n",
    "    return [sum(real_frac_trump),sum(real_frac_hillary)]"
   ]
  },
  {
   "cell_type": "code",
   "execution_count": 116,
   "metadata": {},
   "outputs": [
    {
     "name": "stdout",
     "output_type": "stream",
     "text": [
      "Weighted by age and education: Clinton: 0.5142722847612909, Trump: 0.4857277152387097\n",
      "Weighted by age and education using margin: Clinton: 0.5029213060686997, Trump: 0.4970786939312994\n"
     ]
    }
   ],
   "source": [
    "# get weighted by party and gender\n",
    "type1 = 'party'\n",
    "type2 = 'gender'\n",
    "vote1 = getJointWeighting(type1, type2)\n",
    "vote2 = getJointWeightingMargin(type1, type2)\n",
    "print(\"Weighted by party and gender: Clinton: {}, Trump: {}\".format(vote[1], vote[0]))\n",
    "print(\"Weighted by party and gender using margin: Clinton: {}, Trump: {}\".format(vote1[1], vote1[0]))"
   ]
  },
  {
   "cell_type": "code",
   "execution_count": 118,
   "metadata": {},
   "outputs": [
    {
     "name": "stdout",
     "output_type": "stream",
     "text": [
      "Weighted by race and gender: Clinton: 0.5142722847612909, Trump: 0.4857277152387097\n",
      "Weighted by race and gender using margin: Clinton: 0.5348155487959094, Trump: 0.4651844512040904\n"
     ]
    }
   ],
   "source": [
    "# get weighted by race and gender\n",
    "type1 = 'gender'\n",
    "type2 = 'race'\n",
    "vote1 = getJointWeighting(type1, type2)\n",
    "vote2 = getJointWeightingMargin(type1, type2)\n",
    "print(\"Weighted by race and gender: Clinton: {}, Trump: {}\".format(vote[1], vote[0]))\n",
    "print(\"Weighted by race and gender using margin: Clinton: {}, Trump: {}\".format(vote1[1], vote1[0]))"
   ]
  },
  {
   "cell_type": "markdown",
   "metadata": {},
   "source": [
    "We can see that by using margin, our weighted vote result is different from using the joint distributions in dfdemographic. By using margin, trump received a higher vote proportion weighted by party and gender, and Hillary received a higher vote proportion weighted by race and gender."
   ]
  },
  {
   "cell_type": "markdown",
   "metadata": {},
   "source": [
    "### 4) Bonus points (up to 3 points): Implement a \"cheap\" version of the MRP technique mentioned in class.\n",
    "\n",
    "<font color='blue'> The above techniques use the mean answer among people who share a demographic as the estimate for that demographic. But that wastes information _across_ demographics. For example, maybe people who only have \"Some College\" are similar enough to people who have \"High School\" as to provide some useful information. \n",
    "\n",
    "First, do the following: use a logistic regression (or your favorite prediction tool) to predict candidate choice, using the demographics. You might want to convert some demographics (like education) to ordered numeric (e.g., 1, 2, 3) as opposed to using discrete categories. \n",
    "\n",
    "Here, you will earn partial bonus points by just reporting the predictions and comparing them to the means of each covariate group in the raw polling data. Give a scatter-plot, where each point is one combination of full demographics (age, gender, party, race/ethnicity, education), the X axis is the raw polling average for that combination, and the Y axis is your regression prediction for that combination.   \n",
    "\n",
    "Then, once you have predictions for each set of covariates, \"post-stratify\" to get a single population estimate by plugging them into the above weighting techniques, where you use the predictions instead of the raw averages in that cell. Report the resulting estimates if you do the 2-dimensional joint weighting (on every pair)."
   ]
  },
  {
   "cell_type": "code",
   "execution_count": null,
   "metadata": {},
   "outputs": [],
   "source": []
  },
  {
   "cell_type": "markdown",
   "metadata": {},
   "source": [
    "### 5) Bonus points (up to 2 points): Implement full \"raking\" using all the demographic covariates, i.e., match all the marginals without assuming independence, as opposed to just one or two marginal distributions.\n",
    "\n",
    "<font color='blue'> You may use existing python packages, such as [here](https://github.com/Quantipy/quantipy3). Another approach would be to use [rpy2](https://rpy2.github.io/doc/latest/html/introduction.html) to call `R`, as there are many well-maintained packages in `R` to analyze polling data. One example is [here](https://www.rdocumentation.org/packages/survey/versions/4.1-1/topics/rake). "
   ]
  },
  {
   "cell_type": "code",
   "execution_count": null,
   "metadata": {},
   "outputs": [],
   "source": []
  },
  {
   "cell_type": "markdown",
   "metadata": {},
   "source": [
    "## Part C: Uncertainty analysis, choices, and discussion"
   ]
  },
  {
   "cell_type": "markdown",
   "metadata": {},
   "source": [
    "### 1) Education weighting analysis and \"refused\" answers"
   ]
  },
  {
   "cell_type": "markdown",
   "metadata": {},
   "source": [
    "<font color='blue'> i. In Part B, you should notice a discrepancy from what we said in class and the data -- weighting by education does _not_ seem to help much in reducing the polling average from being pro-Clinton.\n",
    "\n",
    "Here, we'll try to dig into the data to see why the methods we tried above might not be perfect, and what data you would want (such as demographic joint distribution) to do better. \n",
    "\n",
    "First, aggregate (using the groupby function) the poll results by education. Second, aggregate by education and some of the other covariates (for example, education and race, or education and party). Discuss in 4 sentences or less."
   ]
  },
  {
   "cell_type": "code",
   "execution_count": 124,
   "metadata": {},
   "outputs": [
    {
     "data": {
      "text/plain": [
       "education\n",
       "College         378\n",
       "High School     171\n",
       "Refused          12\n",
       "Some College    306\n",
       "Name: candidate, dtype: int64"
      ]
     },
     "execution_count": 124,
     "metadata": {},
     "output_type": "execute_result"
    }
   ],
   "source": [
    "dfpoll.groupby('education').count()['candidate']"
   ]
  },
  {
   "cell_type": "code",
   "execution_count": 125,
   "metadata": {},
   "outputs": [
    {
     "data": {
      "text/plain": [
       "education     race    \n",
       "College       Black        33\n",
       "              Hispanic     73\n",
       "              Other        20\n",
       "              Refused       9\n",
       "              White       243\n",
       "High School   Black        33\n",
       "              Hispanic     43\n",
       "              Other         6\n",
       "              Refused       2\n",
       "              White        87\n",
       "Refused       Black         2\n",
       "              Hispanic      1\n",
       "              Refused       8\n",
       "              White         1\n",
       "Some College  Black        34\n",
       "              Hispanic     59\n",
       "              Other        13\n",
       "              Refused       9\n",
       "              White       191\n",
       "Name: candidate, dtype: int64"
      ]
     },
     "execution_count": 125,
     "metadata": {},
     "output_type": "execute_result"
    }
   ],
   "source": [
    "dfpoll.groupby(['education', 'race']).count()['candidate']"
   ]
  },
  {
   "cell_type": "code",
   "execution_count": 126,
   "metadata": {
    "scrolled": true
   },
   "outputs": [
    {
     "data": {
      "text/plain": [
       "education     party      \n",
       "College       Democrat       135\n",
       "              Independent    132\n",
       "              Refused          4\n",
       "              Republican     107\n",
       "High School   Democrat        69\n",
       "              Independent     49\n",
       "              Refused          5\n",
       "              Republican      48\n",
       "Refused       Democrat         4\n",
       "              Independent      3\n",
       "              Refused          3\n",
       "              Republican       2\n",
       "Some College  Democrat       103\n",
       "              Independent    118\n",
       "              Refused          6\n",
       "              Republican      79\n",
       "Name: candidate, dtype: int64"
      ]
     },
     "execution_count": 126,
     "metadata": {},
     "output_type": "execute_result"
    }
   ],
   "source": [
    "dfpoll.groupby(['education','party']).count()['candidate']"
   ]
  },
  {
   "cell_type": "markdown",
   "metadata": {},
   "source": [
    "By looking at the poll date grouped by education level, we can see that the poll is participated by mostly high education level group. People with college level and some college level are the majority of the population. Moreover, Democrat oocupied a larger portion of the voting population compared to republican."
   ]
  },
  {
   "cell_type": "markdown",
   "metadata": {},
   "source": [
    "<font color='blue'> ii. You'll notice that there are some responses with \"refused,\" and that those people in particular are Trump-leaning. Furthermore, there are likely many people who refused to answer the poll at all, who do not show up in the data. The weighting techniques we used above would ignore these people. How would you adjust your procedures/estimates above to take them into account? Answer in at most 3 sentences."
   ]
  },
  {
   "cell_type": "markdown",
   "metadata": {},
   "source": [
    "First I will estimate the portion of 'refused' voters who supports Trump by analyzing the poll data. Then I will analyze what education level tend to support trump, and assign those refused voters to that education level."
   ]
  },
  {
   "cell_type": "markdown",
   "metadata": {},
   "source": [
    "<font color='blue'> None of the above techniques deal with selection biases/non-response on _un-measured_ covariates. Do you think that may be an important concern in this dataset? Why or why not? Respond in 3 or fewer sentences."
   ]
  },
  {
   "cell_type": "markdown",
   "metadata": {},
   "source": [
    "Yes, it is a important concern. Because we can see that the majority of poll population is consist of high education group (with college level or some college level education), and democrats. It is highly likely that this sample does not represent the true population, and thus the opinion generated by this sample is biased."
   ]
  },
  {
   "cell_type": "markdown",
   "metadata": {},
   "source": [
    "### 2) Final estimates"
   ]
  },
  {
   "cell_type": "markdown",
   "metadata": {},
   "source": [
    "<font color='blue'> Throughout this homework, you made many estimates of the same quantity -- the fraction of people who will vote for Clinton in Florida. Below, plot a histogram of all your estimates."
   ]
  },
  {
   "cell_type": "code",
   "execution_count": 131,
   "metadata": {},
   "outputs": [],
   "source": [
    "all_estimates = [0.5458333333333333,0.5305420129721238,0.5498233520750473,0.4987195030437841,0.5304859528515626,0.5440587022833179,0.5245159272021906,0.5029213060686997,0.4979923466251236,0.5011444670666649,0.4935008813708104,0.5332889700974133,0.5348155487959094,0.5475782479595503,0.5245159272021906,0.5254829927664427,0.5142722847612909,0.5029213060686997,0.5348155487959094] "
   ]
  },
  {
   "cell_type": "markdown",
   "metadata": {},
   "source": [
    "<font color='blue'> Given all your above analysis, if you were a pollster what would you report as your single estimate? "
   ]
  },
  {
   "cell_type": "code",
   "execution_count": 136,
   "metadata": {},
   "outputs": [
    {
     "name": "stdout",
     "output_type": "stream",
     "text": [
      "Single estimate is 0.523012032175793\n"
     ]
    }
   ],
   "source": [
    "# Use mean to give single estimate\n",
    "mean = np.mean(all_estimates)\n",
    "print('Single estimate is',mean)"
   ]
  },
  {
   "cell_type": "markdown",
   "metadata": {},
   "source": [
    "<font color='blue'> Justify your choice, in at most 3 sentences"
   ]
  },
  {
   "cell_type": "code",
   "execution_count": 142,
   "metadata": {
    "scrolled": false
   },
   "outputs": [
    {
     "data": {
      "image/png": "[encoded data removed]",
      "text/plain": [
       "<Figure size 432x288 with 1 Axes>"
      ]
     },
     "metadata": {
      "needs_background": "light"
     },
     "output_type": "display_data"
    }
   ],
   "source": [
    "plt.hist(all_estimates)\n",
    "plt.show()"
   ]
  },
  {
   "cell_type": "code",
   "execution_count": 143,
   "metadata": {},
   "outputs": [
    {
     "data": {
      "text/plain": [
       "19"
      ]
     },
     "execution_count": 143,
     "metadata": {},
     "output_type": "execute_result"
    }
   ],
   "source": [
    "len(all_estimates)"
   ]
  },
  {
   "cell_type": "markdown",
   "metadata": {},
   "source": [
    "We can see that some of our estimates lie around 0.5, and some of our estimates lie around 0.535. This polarization is caused by the weighting. So we can use mean value for estimation to get the middle point of the polarization. Also, by law of large number, mean is likely to be the best estimators. We have 19 numbers, which is acceptable even not reach the common threshold of 30."
   ]
  },
  {
   "cell_type": "markdown",
   "metadata": {},
   "source": [
    "<font color='blue'> Though we did not discuss how to calculate margin of error or standard errors with weighting in this course, what would you say if someone asked you how confident you are in your estimate? You may either qualitatively answer, or try to come up with a margin of error.  "
   ]
  },
  {
   "cell_type": "code",
   "execution_count": 140,
   "metadata": {},
   "outputs": [],
   "source": [
    "# Assume normal distribution\n",
    "z_score = 1.96\n",
    "stdev = np.std(all_estimates)"
   ]
  },
  {
   "cell_type": "code",
   "execution_count": 141,
   "metadata": {},
   "outputs": [
    {
     "name": "stdout",
     "output_type": "stream",
     "text": [
      "Margin of error is [0.4874852067546097, 0.5585388575969762]\n"
     ]
    }
   ],
   "source": [
    "margin_of_error = [mean-z_score*stdev, mean+z_score*stdev]\n",
    "print(\"Margin of error is\", margin_of_error)"
   ]
  }
 ],
 "metadata": {
  "kernelspec": {
   "display_name": "Python 3",
   "language": "python",
   "name": "python3"
  },
  "language_info": {
   "codemirror_mode": {
    "name": "ipython",
    "version": 3
   },
   "file_extension": ".py",
   "mimetype": "text/x-python",
   "name": "python",
   "nbconvert_exporter": "python",
   "pygments_lexer": "ipython3",
   "version": "3.8.8"
  },
  "varInspector": {
   "cols": {
    "lenName": 16,
    "lenType": 16,
    "lenVar": 40
   },
   "kernels_config": {
    "python": {
     "delete_cmd_postfix": "",
     "delete_cmd_prefix": "del ",
     "library": "var_list.py",
     "varRefreshCmd": "print(var_dic_list())"
    },
    "r": {
     "delete_cmd_postfix": ") ",
     "delete_cmd_prefix": "rm(",
     "library": "var_list.r",
     "varRefreshCmd": "cat(var_dic_list()) "
    }
   },
   "types_to_exclude": [
    "module",
    "function",
    "builtin_function_or_method",
    "instance",
    "_Feature"
   ],
   "window_display": false
  },
  "vscode": {
   "interpreter": {
    "hash": "08c7ecce80b69c620dde7c8919fa94d3baa2217d665b4d1ca74ed6f93561aaf3"
   }
  }
 },
 "nbformat": 4,
 "nbformat_minor": 2
}
